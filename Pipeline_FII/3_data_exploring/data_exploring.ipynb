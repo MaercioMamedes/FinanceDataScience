{
 "cells": [
  {
   "cell_type": "markdown",
   "metadata": {},
   "source": [
    "# Análise Exploratória"
   ]
  },
  {
   "cell_type": "code",
   "execution_count": 10,
   "metadata": {},
   "outputs": [],
   "source": [
    "import pandas as pd"
   ]
  },
  {
   "cell_type": "code",
   "execution_count": 11,
   "metadata": {},
   "outputs": [],
   "source": [
    "data = pd.read_csv(\"../data/2_data_clean/data_cleanned.csv\", sep=\";\")"
   ]
  },
  {
   "cell_type": "code",
   "execution_count": 12,
   "metadata": {},
   "outputs": [
    {
     "data": {
      "text/html": [
       "<div>\n",
       "<style scoped>\n",
       "    .dataframe tbody tr th:only-of-type {\n",
       "        vertical-align: middle;\n",
       "    }\n",
       "\n",
       "    .dataframe tbody tr th {\n",
       "        vertical-align: top;\n",
       "    }\n",
       "\n",
       "    .dataframe thead th {\n",
       "        text-align: right;\n",
       "    }\n",
       "</style>\n",
       "<table border=\"1\" class=\"dataframe\">\n",
       "  <thead>\n",
       "    <tr style=\"text-align: right;\">\n",
       "      <th></th>\n",
       "      <th>PAPEL</th>\n",
       "      <th>SEGMENTO</th>\n",
       "      <th>DIVIDEND_YIELD</th>\n",
       "      <th>P_VP</th>\n",
       "      <th>LIQUIDEZ</th>\n",
       "      <th>QTD_DE_IMOVEIS</th>\n",
       "      <th>VACANCIA_MEDIA</th>\n",
       "    </tr>\n",
       "  </thead>\n",
       "  <tbody>\n",
       "    <tr>\n",
       "      <th>0</th>\n",
       "      <td>AAZQ11</td>\n",
       "      <td>Títulos e Val. Mob.</td>\n",
       "      <td>0.1574</td>\n",
       "      <td>0.91</td>\n",
       "      <td>752324.0</td>\n",
       "      <td>0</td>\n",
       "      <td>0.00</td>\n",
       "    </tr>\n",
       "    <tr>\n",
       "      <th>1</th>\n",
       "      <td>ABCP11</td>\n",
       "      <td>Shoppings</td>\n",
       "      <td>0.0902</td>\n",
       "      <td>0.70</td>\n",
       "      <td>52261.0</td>\n",
       "      <td>1</td>\n",
       "      <td>2.01</td>\n",
       "    </tr>\n",
       "    <tr>\n",
       "      <th>2</th>\n",
       "      <td>AEFI11</td>\n",
       "      <td>Outros</td>\n",
       "      <td>0.0000</td>\n",
       "      <td>1.20</td>\n",
       "      <td>0.0</td>\n",
       "      <td>7</td>\n",
       "      <td>0.00</td>\n",
       "    </tr>\n",
       "    <tr>\n",
       "      <th>3</th>\n",
       "      <td>AFCR11</td>\n",
       "      <td>NaN</td>\n",
       "      <td>0.0000</td>\n",
       "      <td>1.04</td>\n",
       "      <td>0.0</td>\n",
       "      <td>0</td>\n",
       "      <td>0.00</td>\n",
       "    </tr>\n",
       "    <tr>\n",
       "      <th>4</th>\n",
       "      <td>AFHI11</td>\n",
       "      <td>Títulos e Val. Mob.</td>\n",
       "      <td>0.1222</td>\n",
       "      <td>1.01</td>\n",
       "      <td>988744.0</td>\n",
       "      <td>0</td>\n",
       "      <td>0.00</td>\n",
       "    </tr>\n",
       "  </tbody>\n",
       "</table>\n",
       "</div>"
      ],
      "text/plain": [
       "    PAPEL             SEGMENTO  DIVIDEND_YIELD  P_VP  LIQUIDEZ  \\\n",
       "0  AAZQ11  Títulos e Val. Mob.          0.1574  0.91  752324.0   \n",
       "1  ABCP11            Shoppings          0.0902  0.70   52261.0   \n",
       "2  AEFI11               Outros          0.0000  1.20       0.0   \n",
       "3  AFCR11                  NaN          0.0000  1.04       0.0   \n",
       "4  AFHI11  Títulos e Val. Mob.          0.1222  1.01  988744.0   \n",
       "\n",
       "   QTD_DE_IMOVEIS  VACANCIA_MEDIA  \n",
       "0               0            0.00  \n",
       "1               1            2.01  \n",
       "2               7            0.00  \n",
       "3               0            0.00  \n",
       "4               0            0.00  "
      ]
     },
     "execution_count": 12,
     "metadata": {},
     "output_type": "execute_result"
    }
   ],
   "source": [
    "data.head()"
   ]
  },
  {
   "cell_type": "code",
   "execution_count": 13,
   "metadata": {},
   "outputs": [
    {
     "data": {
      "text/plain": [
       "Index(['PAPEL', 'SEGMENTO', 'DIVIDEND_YIELD', 'P_VP', 'LIQUIDEZ',\n",
       "       'QTD_DE_IMOVEIS', 'VACANCIA_MEDIA'],\n",
       "      dtype='object')"
      ]
     },
     "execution_count": 13,
     "metadata": {},
     "output_type": "execute_result"
    }
   ],
   "source": [
    "data.columns"
   ]
  },
  {
   "cell_type": "code",
   "execution_count": 14,
   "metadata": {},
   "outputs": [
    {
     "data": {
      "text/plain": [
       "count    4.800000e+02\n",
       "mean     6.802829e+05\n",
       "std      1.658341e+06\n",
       "min      0.000000e+00\n",
       "25%      1.925000e+01\n",
       "50%      6.031100e+04\n",
       "75%      5.496895e+05\n",
       "max      1.456660e+07\n",
       "Name: LIQUIDEZ, dtype: float64"
      ]
     },
     "execution_count": 14,
     "metadata": {},
     "output_type": "execute_result"
    }
   ],
   "source": [
    "data['LIQUIDEZ'].describe()"
   ]
  },
  {
   "cell_type": "code",
   "execution_count": null,
   "metadata": {},
   "outputs": [],
   "source": []
  }
 ],
 "metadata": {
  "kernelspec": {
   "display_name": "base",
   "language": "python",
   "name": "python3"
  },
  "language_info": {
   "codemirror_mode": {
    "name": "ipython",
    "version": 3
   },
   "file_extension": ".py",
   "mimetype": "text/x-python",
   "name": "python",
   "nbconvert_exporter": "python",
   "pygments_lexer": "ipython3",
   "version": "3.11.5"
  }
 },
 "nbformat": 4,
 "nbformat_minor": 2
}
