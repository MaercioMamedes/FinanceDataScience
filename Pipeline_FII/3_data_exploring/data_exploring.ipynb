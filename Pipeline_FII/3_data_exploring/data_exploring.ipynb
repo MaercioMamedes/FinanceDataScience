{
 "cells": [
  {
   "cell_type": "markdown",
   "metadata": {},
   "source": []
  },
  {
   "cell_type": "code",
   "execution_count": 1,
   "metadata": {},
   "outputs": [],
   "source": [
    "import pandas as pd"
   ]
  },
  {
   "cell_type": "code",
   "execution_count": 4,
   "metadata": {},
   "outputs": [],
   "source": [
    "data = pd.read_csv(\"../data/scraping/data.csv\", sep=\";\")"
   ]
  },
  {
   "cell_type": "code",
   "execution_count": 5,
   "metadata": {},
   "outputs": [
    {
     "data": {
      "text/html": [
       "<div>\n",
       "<style scoped>\n",
       "    .dataframe tbody tr th:only-of-type {\n",
       "        vertical-align: middle;\n",
       "    }\n",
       "\n",
       "    .dataframe tbody tr th {\n",
       "        vertical-align: top;\n",
       "    }\n",
       "\n",
       "    .dataframe thead th {\n",
       "        text-align: right;\n",
       "    }\n",
       "</style>\n",
       "<table border=\"1\" class=\"dataframe\">\n",
       "  <thead>\n",
       "    <tr style=\"text-align: right;\">\n",
       "      <th></th>\n",
       "      <th>Papel</th>\n",
       "      <th>Segmento</th>\n",
       "      <th>Cotação</th>\n",
       "      <th>FFO Yield</th>\n",
       "      <th>Dividend Yield</th>\n",
       "      <th>P/VP</th>\n",
       "      <th>Valor de Mercado</th>\n",
       "      <th>Liquidez</th>\n",
       "      <th>Qtd de imóveis</th>\n",
       "      <th>Preço do m2</th>\n",
       "      <th>Aluguel por m2</th>\n",
       "      <th>Cap Rate</th>\n",
       "      <th>Vacância Média</th>\n",
       "    </tr>\n",
       "  </thead>\n",
       "  <tbody>\n",
       "    <tr>\n",
       "      <th>0</th>\n",
       "      <td>AAZQ11</td>\n",
       "      <td>Títulos e Val. Mob.</td>\n",
       "      <td>7,93</td>\n",
       "      <td>18,32%</td>\n",
       "      <td>15,74%</td>\n",
       "      <td>0,91</td>\n",
       "      <td>190.616.000</td>\n",
       "      <td>752.324</td>\n",
       "      <td>0</td>\n",
       "      <td>0,00</td>\n",
       "      <td>0,00</td>\n",
       "      <td>0,00%</td>\n",
       "      <td>0,00%</td>\n",
       "    </tr>\n",
       "    <tr>\n",
       "      <th>1</th>\n",
       "      <td>ABCP11</td>\n",
       "      <td>Shoppings</td>\n",
       "      <td>71,60</td>\n",
       "      <td>8,63%</td>\n",
       "      <td>9,02%</td>\n",
       "      <td>0,70</td>\n",
       "      <td>337.170.000</td>\n",
       "      <td>52.261</td>\n",
       "      <td>1</td>\n",
       "      <td>4.702,88</td>\n",
       "      <td>511,02</td>\n",
       "      <td>10,87%</td>\n",
       "      <td>2,01%</td>\n",
       "    </tr>\n",
       "    <tr>\n",
       "      <th>2</th>\n",
       "      <td>AEFI11</td>\n",
       "      <td>Outros</td>\n",
       "      <td>174,90</td>\n",
       "      <td>8,89%</td>\n",
       "      <td>0,00%</td>\n",
       "      <td>1,20</td>\n",
       "      <td>411.893.000</td>\n",
       "      <td>0</td>\n",
       "      <td>7</td>\n",
       "      <td>4.320,48</td>\n",
       "      <td>394,34</td>\n",
       "      <td>9,13%</td>\n",
       "      <td>0,00%</td>\n",
       "    </tr>\n",
       "    <tr>\n",
       "      <th>3</th>\n",
       "      <td>AFCR11</td>\n",
       "      <td>NaN</td>\n",
       "      <td>103,15</td>\n",
       "      <td>6,80%</td>\n",
       "      <td>0,00%</td>\n",
       "      <td>1,04</td>\n",
       "      <td>498.867.000</td>\n",
       "      <td>0</td>\n",
       "      <td>0</td>\n",
       "      <td>0,00</td>\n",
       "      <td>0,00</td>\n",
       "      <td>0,00%</td>\n",
       "      <td>0,00%</td>\n",
       "    </tr>\n",
       "    <tr>\n",
       "      <th>4</th>\n",
       "      <td>AFHI11</td>\n",
       "      <td>Títulos e Val. Mob.</td>\n",
       "      <td>97,58</td>\n",
       "      <td>8,89%</td>\n",
       "      <td>12,22%</td>\n",
       "      <td>1,01</td>\n",
       "      <td>444.537.000</td>\n",
       "      <td>988.744</td>\n",
       "      <td>0</td>\n",
       "      <td>0,00</td>\n",
       "      <td>0,00</td>\n",
       "      <td>0,00%</td>\n",
       "      <td>0,00%</td>\n",
       "    </tr>\n",
       "  </tbody>\n",
       "</table>\n",
       "</div>"
      ],
      "text/plain": [
       "    Papel             Segmento Cotação FFO Yield Dividend Yield  P/VP  \\\n",
       "0  AAZQ11  Títulos e Val. Mob.    7,93    18,32%         15,74%  0,91   \n",
       "1  ABCP11            Shoppings   71,60     8,63%          9,02%  0,70   \n",
       "2  AEFI11               Outros  174,90     8,89%          0,00%  1,20   \n",
       "3  AFCR11                  NaN  103,15     6,80%          0,00%  1,04   \n",
       "4  AFHI11  Títulos e Val. Mob.   97,58     8,89%         12,22%  1,01   \n",
       "\n",
       "  Valor de Mercado Liquidez  Qtd de imóveis Preço do m2 Aluguel por m2  \\\n",
       "0      190.616.000  752.324               0        0,00           0,00   \n",
       "1      337.170.000   52.261               1    4.702,88         511,02   \n",
       "2      411.893.000        0               7    4.320,48         394,34   \n",
       "3      498.867.000        0               0        0,00           0,00   \n",
       "4      444.537.000  988.744               0        0,00           0,00   \n",
       "\n",
       "  Cap Rate Vacância Média  \n",
       "0    0,00%          0,00%  \n",
       "1   10,87%          2,01%  \n",
       "2    9,13%          0,00%  \n",
       "3    0,00%          0,00%  \n",
       "4    0,00%          0,00%  "
      ]
     },
     "execution_count": 5,
     "metadata": {},
     "output_type": "execute_result"
    }
   ],
   "source": [
    "data.head()"
   ]
  },
  {
   "cell_type": "code",
   "execution_count": 6,
   "metadata": {},
   "outputs": [
    {
     "data": {
      "text/plain": [
       "Index(['Papel', 'Segmento', 'Cotação', 'FFO Yield', 'Dividend Yield', 'P/VP',\n",
       "       'Valor de Mercado', 'Liquidez', 'Qtd de imóveis', 'Preço do m2',\n",
       "       'Aluguel por m2', 'Cap Rate', 'Vacância Média'],\n",
       "      dtype='object')"
      ]
     },
     "execution_count": 6,
     "metadata": {},
     "output_type": "execute_result"
    }
   ],
   "source": [
    "data.columns"
   ]
  },
  {
   "cell_type": "code",
   "execution_count": null,
   "metadata": {},
   "outputs": [],
   "source": []
  }
 ],
 "metadata": {
  "kernelspec": {
   "display_name": "base",
   "language": "python",
   "name": "python3"
  },
  "language_info": {
   "codemirror_mode": {
    "name": "ipython",
    "version": 3
   },
   "file_extension": ".py",
   "mimetype": "text/x-python",
   "name": "python",
   "nbconvert_exporter": "python",
   "pygments_lexer": "ipython3",
   "version": "3.11.5"
  }
 },
 "nbformat": 4,
 "nbformat_minor": 2
}
