{
 "cells": [
  {
   "cell_type": "code",
   "execution_count": 1,
   "id": "f8c325e7-0a3d-4055-b334-4105e2502d72",
   "metadata": {},
   "outputs": [
    {
     "name": "stdout",
     "output_type": "stream",
     "text": [
      "20241115_101529\n"
     ]
    }
   ],
   "source": [
    "import csv\n",
    "from datetime import datetime\n",
    "\n",
    "# Obtém a data e hora atual\n",
    "now = datetime.now()\n",
    "timestamp = now.strftime(\"%Y%m%d_%H%M%S\")\n",
    "print(timestamp)"
   ]
  },
  {
   "cell_type": "code",
   "execution_count": null,
   "id": "d31b1c8f-f56f-4751-b69f-eddfbcedf219",
   "metadata": {},
   "outputs": [],
   "source": [
    "# Nome do arquivo CSV\n",
    "filename = f\"arquivo_{timestamp}.csv\"\n",
    "\n",
    "# Dados para escrever no arquivo CSV\n",
    "data = [\n",
    "    [\"Nome\", \"Idade\", \"Cidade\"],\n",
    "    [\"Alice\", 30, \"São Paulo\"],\n",
    "    [\"Bob\", 25, \"Rio de Janeiro\"],\n",
    "    [\"Charlie\", 35, \"Belo Horizonte\"]\n",
    "]\n",
    "\n",
    "# Cria e escreve no arquivo CSV\n",
    "with open(filename, mode='w', newline='') as file:\n",
    "    writer = csv.writer(file)\n",
    "    writer.writerows(data)\n",
    "\n",
    "print(f\"Arquivo {filename} criado com sucesso!\")"
   ]
  }
 ],
 "metadata": {
  "kernelspec": {
   "display_name": "Python 3 (ipykernel)",
   "language": "python",
   "name": "python3"
  },
  "language_info": {
   "codemirror_mode": {
    "name": "ipython",
    "version": 3
   },
   "file_extension": ".py",
   "mimetype": "text/x-python",
   "name": "python",
   "nbconvert_exporter": "python",
   "pygments_lexer": "ipython3",
   "version": "3.11.5"
  }
 },
 "nbformat": 4,
 "nbformat_minor": 5
}
