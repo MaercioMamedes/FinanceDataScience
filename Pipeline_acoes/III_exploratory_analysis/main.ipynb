{
 "cells": [
  {
   "cell_type": "markdown",
   "id": "b50a9161-2088-4bcf-9d86-feba5d4ea36b",
   "metadata": {},
   "source": [
    "# Análise Exploratória com Pandas\n",
    "## Estudando as empresas Listadas na bolsa de Valores B3"
   ]
  },
  {
   "cell_type": "code",
   "execution_count": 2,
   "id": "bd259710-ef5b-410c-9a5b-67fdb958b5b7",
   "metadata": {},
   "outputs": [],
   "source": [
    "import pandas as pd\n",
    "import pprint\n",
    "import seaborn as  sns\n",
    "import matplotlib.pyplot as plt\n",
    "import re\n",
    "from unicodedata import normalize\n",
    "\n",
    "pd.set_option('display.max_columns', None)"
   ]
  },
  {
   "cell_type": "code",
   "execution_count": 3,
   "id": "131f6944-f353-4766-b817-c39f34d2dc1e",
   "metadata": {},
   "outputs": [],
   "source": [
    "#Leirura do arquivo\n",
    "\n",
    "data = pd.read_csv(\"../data/relatorio_acoes_2024_09_28.csv\", sep=\";\")"
   ]
  },
  {
   "cell_type": "code",
   "execution_count": 4,
   "id": "178ebc3b-3fae-4ada-88d5-5c4628cfb260",
   "metadata": {},
   "outputs": [
    {
     "data": {
      "text/html": [
       "<div>\n",
       "<style scoped>\n",
       "    .dataframe tbody tr th:only-of-type {\n",
       "        vertical-align: middle;\n",
       "    }\n",
       "\n",
       "    .dataframe tbody tr th {\n",
       "        vertical-align: top;\n",
       "    }\n",
       "\n",
       "    .dataframe thead th {\n",
       "        text-align: right;\n",
       "    }\n",
       "</style>\n",
       "<table border=\"1\" class=\"dataframe\">\n",
       "  <thead>\n",
       "    <tr style=\"text-align: right;\">\n",
       "      <th></th>\n",
       "      <th>PAPEL</th>\n",
       "      <th>COTACAO</th>\n",
       "      <th>P_L</th>\n",
       "      <th>P_VP</th>\n",
       "      <th>PSR</th>\n",
       "      <th>DIV_YIELD</th>\n",
       "      <th>P_ATIVO</th>\n",
       "      <th>P_CAP_GIRO</th>\n",
       "      <th>P_EBIT</th>\n",
       "      <th>P_ATIV_CIRC_LIQ</th>\n",
       "      <th>EV_EBIT</th>\n",
       "      <th>EV_EBITDA</th>\n",
       "      <th>MRG_EBIT</th>\n",
       "      <th>MRG_LIQ</th>\n",
       "      <th>LIQ_CORR</th>\n",
       "      <th>ROIC</th>\n",
       "      <th>ROE</th>\n",
       "      <th>LIQ_2MESES</th>\n",
       "      <th>PATRIM_LIQ</th>\n",
       "      <th>DIV_BRUT_PATRIM</th>\n",
       "      <th>CRESC_REC_5A</th>\n",
       "    </tr>\n",
       "  </thead>\n",
       "  <tbody>\n",
       "    <tr>\n",
       "      <th>0</th>\n",
       "      <td>POPR4</td>\n",
       "      <td>10.17</td>\n",
       "      <td>0.0</td>\n",
       "      <td>0.0</td>\n",
       "      <td>0.0</td>\n",
       "      <td>0.0</td>\n",
       "      <td>0.0</td>\n",
       "      <td>0.0</td>\n",
       "      <td>0.0</td>\n",
       "      <td>0.0</td>\n",
       "      <td>0.0</td>\n",
       "      <td>0.0</td>\n",
       "      <td>0.0866</td>\n",
       "      <td>0.0565</td>\n",
       "      <td>1.08</td>\n",
       "      <td>0.1525</td>\n",
       "      <td>0.1993</td>\n",
       "      <td>0.0</td>\n",
       "      <td>5.458030e+08</td>\n",
       "      <td>0.82</td>\n",
       "      <td>0.3093</td>\n",
       "    </tr>\n",
       "    <tr>\n",
       "      <th>1</th>\n",
       "      <td>PORP4</td>\n",
       "      <td>2.40</td>\n",
       "      <td>0.0</td>\n",
       "      <td>0.0</td>\n",
       "      <td>0.0</td>\n",
       "      <td>0.0</td>\n",
       "      <td>0.0</td>\n",
       "      <td>0.0</td>\n",
       "      <td>0.0</td>\n",
       "      <td>0.0</td>\n",
       "      <td>0.0</td>\n",
       "      <td>0.0</td>\n",
       "      <td>0.0000</td>\n",
       "      <td>0.0000</td>\n",
       "      <td>0.00</td>\n",
       "      <td>0.0000</td>\n",
       "      <td>-0.0208</td>\n",
       "      <td>0.0</td>\n",
       "      <td>2.239900e+07</td>\n",
       "      <td>0.00</td>\n",
       "      <td>0.1366</td>\n",
       "    </tr>\n",
       "    <tr>\n",
       "      <th>2</th>\n",
       "      <td>CFLU4</td>\n",
       "      <td>1000.00</td>\n",
       "      <td>0.0</td>\n",
       "      <td>0.0</td>\n",
       "      <td>0.0</td>\n",
       "      <td>0.0</td>\n",
       "      <td>0.0</td>\n",
       "      <td>0.0</td>\n",
       "      <td>0.0</td>\n",
       "      <td>0.0</td>\n",
       "      <td>0.0</td>\n",
       "      <td>0.0</td>\n",
       "      <td>0.0888</td>\n",
       "      <td>0.1072</td>\n",
       "      <td>1.10</td>\n",
       "      <td>0.1768</td>\n",
       "      <td>0.3215</td>\n",
       "      <td>0.0</td>\n",
       "      <td>6.035100e+07</td>\n",
       "      <td>0.06</td>\n",
       "      <td>0.0814</td>\n",
       "    </tr>\n",
       "    <tr>\n",
       "      <th>3</th>\n",
       "      <td>CSTB3</td>\n",
       "      <td>150.00</td>\n",
       "      <td>0.0</td>\n",
       "      <td>0.0</td>\n",
       "      <td>0.0</td>\n",
       "      <td>0.0</td>\n",
       "      <td>0.0</td>\n",
       "      <td>0.0</td>\n",
       "      <td>0.0</td>\n",
       "      <td>0.0</td>\n",
       "      <td>0.0</td>\n",
       "      <td>0.0</td>\n",
       "      <td>0.4085</td>\n",
       "      <td>0.2898</td>\n",
       "      <td>2.60</td>\n",
       "      <td>0.2240</td>\n",
       "      <td>0.2011</td>\n",
       "      <td>0.0</td>\n",
       "      <td>8.420670e+09</td>\n",
       "      <td>0.14</td>\n",
       "      <td>0.3191</td>\n",
       "    </tr>\n",
       "    <tr>\n",
       "      <th>4</th>\n",
       "      <td>PMET3</td>\n",
       "      <td>0.00</td>\n",
       "      <td>0.0</td>\n",
       "      <td>0.0</td>\n",
       "      <td>0.0</td>\n",
       "      <td>0.0</td>\n",
       "      <td>0.0</td>\n",
       "      <td>0.0</td>\n",
       "      <td>0.0</td>\n",
       "      <td>0.0</td>\n",
       "      <td>0.0</td>\n",
       "      <td>0.0</td>\n",
       "      <td>0.0000</td>\n",
       "      <td>0.0000</td>\n",
       "      <td>0.00</td>\n",
       "      <td>0.0000</td>\n",
       "      <td>0.0410</td>\n",
       "      <td>0.0</td>\n",
       "      <td>-2.908630e+08</td>\n",
       "      <td>0.00</td>\n",
       "      <td>0.3774</td>\n",
       "    </tr>\n",
       "    <tr>\n",
       "      <th>5</th>\n",
       "      <td>CSTB4</td>\n",
       "      <td>147.69</td>\n",
       "      <td>0.0</td>\n",
       "      <td>0.0</td>\n",
       "      <td>0.0</td>\n",
       "      <td>0.0</td>\n",
       "      <td>0.0</td>\n",
       "      <td>0.0</td>\n",
       "      <td>0.0</td>\n",
       "      <td>0.0</td>\n",
       "      <td>0.0</td>\n",
       "      <td>0.0</td>\n",
       "      <td>0.4085</td>\n",
       "      <td>0.2898</td>\n",
       "      <td>2.60</td>\n",
       "      <td>0.2240</td>\n",
       "      <td>0.2011</td>\n",
       "      <td>0.0</td>\n",
       "      <td>8.420670e+09</td>\n",
       "      <td>0.14</td>\n",
       "      <td>0.3191</td>\n",
       "    </tr>\n",
       "    <tr>\n",
       "      <th>6</th>\n",
       "      <td>CLAN3</td>\n",
       "      <td>0.00</td>\n",
       "      <td>0.0</td>\n",
       "      <td>0.0</td>\n",
       "      <td>0.0</td>\n",
       "      <td>0.0</td>\n",
       "      <td>0.0</td>\n",
       "      <td>0.0</td>\n",
       "      <td>0.0</td>\n",
       "      <td>0.0</td>\n",
       "      <td>0.0</td>\n",
       "      <td>0.0</td>\n",
       "      <td>0.0000</td>\n",
       "      <td>0.0000</td>\n",
       "      <td>0.00</td>\n",
       "      <td>0.0000</td>\n",
       "      <td>-0.0105</td>\n",
       "      <td>0.0</td>\n",
       "      <td>1.012240e+09</td>\n",
       "      <td>0.00</td>\n",
       "      <td>-0.6396</td>\n",
       "    </tr>\n",
       "  </tbody>\n",
       "</table>\n",
       "</div>"
      ],
      "text/plain": [
       "   PAPEL  COTACAO  P_L  P_VP  PSR  DIV_YIELD  P_ATIVO  P_CAP_GIRO  P_EBIT  \\\n",
       "0  POPR4    10.17  0.0   0.0  0.0        0.0      0.0         0.0     0.0   \n",
       "1  PORP4     2.40  0.0   0.0  0.0        0.0      0.0         0.0     0.0   \n",
       "2  CFLU4  1000.00  0.0   0.0  0.0        0.0      0.0         0.0     0.0   \n",
       "3  CSTB3   150.00  0.0   0.0  0.0        0.0      0.0         0.0     0.0   \n",
       "4  PMET3     0.00  0.0   0.0  0.0        0.0      0.0         0.0     0.0   \n",
       "5  CSTB4   147.69  0.0   0.0  0.0        0.0      0.0         0.0     0.0   \n",
       "6  CLAN3     0.00  0.0   0.0  0.0        0.0      0.0         0.0     0.0   \n",
       "\n",
       "   P_ATIV_CIRC_LIQ  EV_EBIT  EV_EBITDA  MRG_EBIT  MRG_LIQ  LIQ_CORR    ROIC  \\\n",
       "0              0.0      0.0        0.0    0.0866   0.0565      1.08  0.1525   \n",
       "1              0.0      0.0        0.0    0.0000   0.0000      0.00  0.0000   \n",
       "2              0.0      0.0        0.0    0.0888   0.1072      1.10  0.1768   \n",
       "3              0.0      0.0        0.0    0.4085   0.2898      2.60  0.2240   \n",
       "4              0.0      0.0        0.0    0.0000   0.0000      0.00  0.0000   \n",
       "5              0.0      0.0        0.0    0.4085   0.2898      2.60  0.2240   \n",
       "6              0.0      0.0        0.0    0.0000   0.0000      0.00  0.0000   \n",
       "\n",
       "      ROE  LIQ_2MESES    PATRIM_LIQ  DIV_BRUT_PATRIM  CRESC_REC_5A  \n",
       "0  0.1993         0.0  5.458030e+08             0.82        0.3093  \n",
       "1 -0.0208         0.0  2.239900e+07             0.00        0.1366  \n",
       "2  0.3215         0.0  6.035100e+07             0.06        0.0814  \n",
       "3  0.2011         0.0  8.420670e+09             0.14        0.3191  \n",
       "4  0.0410         0.0 -2.908630e+08             0.00        0.3774  \n",
       "5  0.2011         0.0  8.420670e+09             0.14        0.3191  \n",
       "6 -0.0105         0.0  1.012240e+09             0.00       -0.6396  "
      ]
     },
     "execution_count": 4,
     "metadata": {},
     "output_type": "execute_result"
    }
   ],
   "source": [
    "# 7 primeiras linhas do dataset\n",
    "data.head(7)"
   ]
  },
  {
   "cell_type": "code",
   "execution_count": 5,
   "id": "08082c23-d145-4987-b819-522fdc39ed75",
   "metadata": {},
   "outputs": [
    {
     "data": {
      "text/html": [
       "<div>\n",
       "<style scoped>\n",
       "    .dataframe tbody tr th:only-of-type {\n",
       "        vertical-align: middle;\n",
       "    }\n",
       "\n",
       "    .dataframe tbody tr th {\n",
       "        vertical-align: top;\n",
       "    }\n",
       "\n",
       "    .dataframe thead th {\n",
       "        text-align: right;\n",
       "    }\n",
       "</style>\n",
       "<table border=\"1\" class=\"dataframe\">\n",
       "  <thead>\n",
       "    <tr style=\"text-align: right;\">\n",
       "      <th></th>\n",
       "      <th>PAPEL</th>\n",
       "      <th>COTACAO</th>\n",
       "      <th>P_L</th>\n",
       "      <th>P_VP</th>\n",
       "      <th>PSR</th>\n",
       "      <th>DIV_YIELD</th>\n",
       "      <th>P_ATIVO</th>\n",
       "      <th>P_CAP_GIRO</th>\n",
       "      <th>P_EBIT</th>\n",
       "      <th>P_ATIV_CIRC_LIQ</th>\n",
       "      <th>EV_EBIT</th>\n",
       "      <th>EV_EBITDA</th>\n",
       "      <th>MRG_EBIT</th>\n",
       "      <th>MRG_LIQ</th>\n",
       "      <th>LIQ_CORR</th>\n",
       "      <th>ROIC</th>\n",
       "      <th>ROE</th>\n",
       "      <th>LIQ_2MESES</th>\n",
       "      <th>PATRIM_LIQ</th>\n",
       "      <th>DIV_BRUT_PATRIM</th>\n",
       "      <th>CRESC_REC_5A</th>\n",
       "    </tr>\n",
       "  </thead>\n",
       "  <tbody>\n",
       "    <tr>\n",
       "      <th>982</th>\n",
       "      <td>UBBR3</td>\n",
       "      <td>18.00</td>\n",
       "      <td>1466.61</td>\n",
       "      <td>4.77</td>\n",
       "      <td>0.000</td>\n",
       "      <td>0.0</td>\n",
       "      <td>0.000</td>\n",
       "      <td>0.00</td>\n",
       "      <td>0.00</td>\n",
       "      <td>0.00</td>\n",
       "      <td>0.00</td>\n",
       "      <td>0.00</td>\n",
       "      <td>0.0000</td>\n",
       "      <td>0.0000</td>\n",
       "      <td>0.00</td>\n",
       "      <td>0.0000</td>\n",
       "      <td>0.0033</td>\n",
       "      <td>0.0</td>\n",
       "      <td>1.031720e+10</td>\n",
       "      <td>0.00</td>\n",
       "      <td>0.1058</td>\n",
       "    </tr>\n",
       "    <tr>\n",
       "      <th>983</th>\n",
       "      <td>CEPE3</td>\n",
       "      <td>128.00</td>\n",
       "      <td>1910.07</td>\n",
       "      <td>5.88</td>\n",
       "      <td>1.143</td>\n",
       "      <td>0.0</td>\n",
       "      <td>0.691</td>\n",
       "      <td>37.60</td>\n",
       "      <td>8.14</td>\n",
       "      <td>-1.10</td>\n",
       "      <td>14.83</td>\n",
       "      <td>10.86</td>\n",
       "      <td>0.1404</td>\n",
       "      <td>0.0006</td>\n",
       "      <td>1.08</td>\n",
       "      <td>0.0934</td>\n",
       "      <td>0.0031</td>\n",
       "      <td>0.0</td>\n",
       "      <td>1.624000e+09</td>\n",
       "      <td>5.20</td>\n",
       "      <td>0.0181</td>\n",
       "    </tr>\n",
       "    <tr>\n",
       "      <th>984</th>\n",
       "      <td>SEER3</td>\n",
       "      <td>6.06</td>\n",
       "      <td>2766.15</td>\n",
       "      <td>0.63</td>\n",
       "      <td>0.414</td>\n",
       "      <td>0.0</td>\n",
       "      <td>0.222</td>\n",
       "      <td>3.89</td>\n",
       "      <td>2.93</td>\n",
       "      <td>-0.58</td>\n",
       "      <td>5.22</td>\n",
       "      <td>2.86</td>\n",
       "      <td>0.1414</td>\n",
       "      <td>0.0001</td>\n",
       "      <td>1.27</td>\n",
       "      <td>0.0845</td>\n",
       "      <td>0.0002</td>\n",
       "      <td>2656550.0</td>\n",
       "      <td>1.240840e+09</td>\n",
       "      <td>0.75</td>\n",
       "      <td>0.1126</td>\n",
       "    </tr>\n",
       "    <tr>\n",
       "      <th>985</th>\n",
       "      <td>SHOW3</td>\n",
       "      <td>1.05</td>\n",
       "      <td>2831.35</td>\n",
       "      <td>0.43</td>\n",
       "      <td>0.145</td>\n",
       "      <td>0.0</td>\n",
       "      <td>0.158</td>\n",
       "      <td>2.59</td>\n",
       "      <td>2.96</td>\n",
       "      <td>-1.48</td>\n",
       "      <td>2.63</td>\n",
       "      <td>2.19</td>\n",
       "      <td>0.0489</td>\n",
       "      <td>-0.0004</td>\n",
       "      <td>1.13</td>\n",
       "      <td>0.0916</td>\n",
       "      <td>0.0002</td>\n",
       "      <td>328559.0</td>\n",
       "      <td>1.645830e+08</td>\n",
       "      <td>0.49</td>\n",
       "      <td>0.7920</td>\n",
       "    </tr>\n",
       "    <tr>\n",
       "      <th>986</th>\n",
       "      <td>LWSA3</td>\n",
       "      <td>4.30</td>\n",
       "      <td>3912.52</td>\n",
       "      <td>0.89</td>\n",
       "      <td>1.926</td>\n",
       "      <td>0.0</td>\n",
       "      <td>0.628</td>\n",
       "      <td>7.25</td>\n",
       "      <td>26.99</td>\n",
       "      <td>11.37</td>\n",
       "      <td>21.81</td>\n",
       "      <td>9.48</td>\n",
       "      <td>0.0714</td>\n",
       "      <td>0.0005</td>\n",
       "      <td>1.33</td>\n",
       "      <td>0.0272</td>\n",
       "      <td>0.0002</td>\n",
       "      <td>25520300.0</td>\n",
       "      <td>2.891700e+09</td>\n",
       "      <td>0.03</td>\n",
       "      <td>0.3446</td>\n",
       "    </tr>\n",
       "  </tbody>\n",
       "</table>\n",
       "</div>"
      ],
      "text/plain": [
       "     PAPEL  COTACAO      P_L  P_VP    PSR  DIV_YIELD  P_ATIVO  P_CAP_GIRO  \\\n",
       "982  UBBR3    18.00  1466.61  4.77  0.000        0.0    0.000        0.00   \n",
       "983  CEPE3   128.00  1910.07  5.88  1.143        0.0    0.691       37.60   \n",
       "984  SEER3     6.06  2766.15  0.63  0.414        0.0    0.222        3.89   \n",
       "985  SHOW3     1.05  2831.35  0.43  0.145        0.0    0.158        2.59   \n",
       "986  LWSA3     4.30  3912.52  0.89  1.926        0.0    0.628        7.25   \n",
       "\n",
       "     P_EBIT  P_ATIV_CIRC_LIQ  EV_EBIT  EV_EBITDA  MRG_EBIT  MRG_LIQ  LIQ_CORR  \\\n",
       "982    0.00             0.00     0.00       0.00    0.0000   0.0000      0.00   \n",
       "983    8.14            -1.10    14.83      10.86    0.1404   0.0006      1.08   \n",
       "984    2.93            -0.58     5.22       2.86    0.1414   0.0001      1.27   \n",
       "985    2.96            -1.48     2.63       2.19    0.0489  -0.0004      1.13   \n",
       "986   26.99            11.37    21.81       9.48    0.0714   0.0005      1.33   \n",
       "\n",
       "       ROIC     ROE  LIQ_2MESES    PATRIM_LIQ  DIV_BRUT_PATRIM  CRESC_REC_5A  \n",
       "982  0.0000  0.0033         0.0  1.031720e+10             0.00        0.1058  \n",
       "983  0.0934  0.0031         0.0  1.624000e+09             5.20        0.0181  \n",
       "984  0.0845  0.0002   2656550.0  1.240840e+09             0.75        0.1126  \n",
       "985  0.0916  0.0002    328559.0  1.645830e+08             0.49        0.7920  \n",
       "986  0.0272  0.0002  25520300.0  2.891700e+09             0.03        0.3446  "
      ]
     },
     "execution_count": 5,
     "metadata": {},
     "output_type": "execute_result"
    }
   ],
   "source": [
    "# 5 últimas linhas do dataset\n",
    "\n",
    "data.tail(5)"
   ]
  },
  {
   "cell_type": "code",
   "execution_count": 6,
   "id": "98bfac5f",
   "metadata": {},
   "outputs": [
    {
     "name": "stdout",
     "output_type": "stream",
     "text": [
      "O DataFrame Possui 987 linhas e 21 colunas\n"
     ]
    }
   ],
   "source": [
    "# Estrutura do DataFrame\n",
    "\n",
    "linhas = data.shape[0]\n",
    "colunas = data.shape[1]\n",
    "print(f\"O DataFrame Possui {linhas} linhas e {colunas} colunas\")"
   ]
  },
  {
   "cell_type": "code",
   "execution_count": 7,
   "id": "3a012052",
   "metadata": {},
   "outputs": [
    {
     "name": "stdout",
     "output_type": "stream",
     "text": [
      "<class 'pandas.core.frame.DataFrame'>\n",
      "RangeIndex: 987 entries, 0 to 986\n",
      "Data columns (total 21 columns):\n",
      " #   Column           Non-Null Count  Dtype  \n",
      "---  ------           --------------  -----  \n",
      " 0   PAPEL            987 non-null    object \n",
      " 1   COTACAO          987 non-null    float64\n",
      " 2   P_L              987 non-null    float64\n",
      " 3   P_VP             987 non-null    float64\n",
      " 4   PSR              987 non-null    float64\n",
      " 5   DIV_YIELD        987 non-null    float64\n",
      " 6   P_ATIVO          987 non-null    float64\n",
      " 7   P_CAP_GIRO       987 non-null    float64\n",
      " 8   P_EBIT           987 non-null    float64\n",
      " 9   P_ATIV_CIRC_LIQ  987 non-null    float64\n",
      " 10  EV_EBIT          987 non-null    float64\n",
      " 11  EV_EBITDA        987 non-null    float64\n",
      " 12  MRG_EBIT         987 non-null    float64\n",
      " 13  MRG_LIQ          987 non-null    float64\n",
      " 14  LIQ_CORR         987 non-null    float64\n",
      " 15  ROIC             987 non-null    float64\n",
      " 16  ROE              987 non-null    float64\n",
      " 17  LIQ_2MESES       987 non-null    float64\n",
      " 18  PATRIM_LIQ       987 non-null    float64\n",
      " 19  DIV_BRUT_PATRIM  987 non-null    float64\n",
      " 20  CRESC_REC_5A     987 non-null    float64\n",
      "dtypes: float64(20), object(1)\n",
      "memory usage: 162.1+ KB\n",
      "None\n"
     ]
    }
   ],
   "source": [
    "# Explorando as colunas do DataFrame\n",
    "\n",
    "print(data.info())"
   ]
  },
  {
   "cell_type": "markdown",
   "id": "74170f6a-fe70-42ef-b1ec-0c2a862e633d",
   "metadata": {},
   "source": [
    "### Estatísticas descritivas das principais Colunas"
   ]
  },
  {
   "cell_type": "markdown",
   "id": "01f94627-e373-4c36-a487-fd1c7b6319b3",
   "metadata": {},
   "source": [
    "| Parâmetro | Significado |\n",
    "|-------------|-------------|\n",
    "| count | quantidade de valores|\n",
    "| mean | média dos valores | \n",
    "| std | desvio padrão |\n",
    "| min | valor mínimo do conjunto|\n",
    "| 25% | 1º **quartil**|\n",
    "| 50% |2º **quartil**|\n",
    "| 75% |3ª **quartil**|\n",
    "| max | valor máximo do conjunto |\n",
    "\n",
    "NOTA: [QUARTIL](https://www.respondeai.com.br/conteudo/probabilidade-e-estatistica/estatistica/1-2-e-3-quartil-e-distancia-interquartil/862#:~:text=1%C2%BA%20quartil%2C%20%C3%A9%20o%20valor%20da%20posi%C3%A7%C3%A3o%20central,caminho%20entre%20a%20mediana%20e%20o%20%C3%BAltimo%20termo.)\n"
   ]
  },
  {
   "cell_type": "markdown",
   "id": "017f31e0-6b47-4f37-b70c-49b5000675d7",
   "metadata": {},
   "source": [
    "#### Dividendos"
   ]
  },
  {
   "cell_type": "code",
   "execution_count": 11,
   "id": "a5db80a9-8c66-4cce-ac03-740fcc881f3d",
   "metadata": {},
   "outputs": [
    {
     "data": {
      "text/plain": [
       "count    987.000000\n",
       "mean       0.033923\n",
       "std        0.387885\n",
       "min        0.000000\n",
       "25%        0.000000\n",
       "50%        0.000000\n",
       "75%        0.022800\n",
       "max       12.028900\n",
       "Name: DIV_YIELD, dtype: float64"
      ]
     },
     "execution_count": 11,
     "metadata": {},
     "output_type": "execute_result"
    }
   ],
   "source": [
    "data[\"DIV_YIELD\"].describe()"
   ]
  },
  {
   "cell_type": "markdown",
   "id": "652522fe-1de0-4d5a-9210-04071eb4ed55",
   "metadata": {},
   "source": [
    "#### Preço/Lucro"
   ]
  },
  {
   "cell_type": "code",
   "execution_count": 13,
   "id": "f2f83099-2f12-41a4-a437-1afebdef226c",
   "metadata": {},
   "outputs": [
    {
     "data": {
      "text/plain": [
       "count     987.000000\n",
       "mean       17.358126\n",
       "std       243.301300\n",
       "min     -3584.820000\n",
       "25%        -0.260000\n",
       "50%         4.610000\n",
       "75%        12.975000\n",
       "max      3912.520000\n",
       "Name: P_L, dtype: float64"
      ]
     },
     "execution_count": 13,
     "metadata": {},
     "output_type": "execute_result"
    }
   ],
   "source": [
    "data['P_L'].describe()"
   ]
  },
  {
   "cell_type": "markdown",
   "id": "b4b1d3d3-3cf1-40a3-a2a9-64413d2ea2d7",
   "metadata": {},
   "source": [
    "#### Preço de Mercado / Valor Patrimonial"
   ]
  },
  {
   "cell_type": "code",
   "execution_count": 15,
   "id": "c15787a7-a163-43e7-ba1c-3117c9d5654d",
   "metadata": {},
   "outputs": [
    {
     "data": {
      "text/plain": [
       "count       987.000000\n",
       "mean       1466.970476\n",
       "std       31881.840053\n",
       "min        -359.150000\n",
       "25%           0.115000\n",
       "50%           1.000000\n",
       "75%           1.910000\n",
       "max      723708.000000\n",
       "Name: P_VP, dtype: float64"
      ]
     },
     "execution_count": 15,
     "metadata": {},
     "output_type": "execute_result"
    }
   ],
   "source": [
    "data['P_VP'].describe()"
   ]
  },
  {
   "cell_type": "markdown",
   "id": "f33a9e9b-9041-40b5-9c67-22988b84134c",
   "metadata": {},
   "source": [
    "#### ROE"
   ]
  },
  {
   "cell_type": "code",
   "execution_count": 17,
   "id": "0b7d5f20-e517-4129-94a7-30c9d5173132",
   "metadata": {},
   "outputs": [
    {
     "data": {
      "text/plain": [
       "count      987.000000\n",
       "mean        27.734219\n",
       "std        613.573638\n",
       "min       -106.739000\n",
       "25%          0.000000\n",
       "50%          0.087000\n",
       "75%          0.191750\n",
       "max      13632.000000\n",
       "Name: ROE, dtype: float64"
      ]
     },
     "execution_count": 17,
     "metadata": {},
     "output_type": "execute_result"
    }
   ],
   "source": [
    "data['ROE'].describe()"
   ]
  },
  {
   "cell_type": "markdown",
   "id": "0509e72c-f14a-481e-a144-d929206364e5",
   "metadata": {},
   "source": [
    "#### CRESCIMENTO DE RECEITA 5 ANOS"
   ]
  },
  {
   "cell_type": "code",
   "execution_count": 19,
   "id": "d2de0e7d-41c7-48ce-bec6-7018c05ddc50",
   "metadata": {},
   "outputs": [
    {
     "data": {
      "text/plain": [
       "count    987.000000\n",
       "mean       0.221433\n",
       "std        2.869840\n",
       "min       -0.870300\n",
       "25%        0.000750\n",
       "50%        0.100100\n",
       "75%        0.182200\n",
       "max       63.540700\n",
       "Name: CRESC_REC_5A, dtype: float64"
      ]
     },
     "execution_count": 19,
     "metadata": {},
     "output_type": "execute_result"
    }
   ],
   "source": [
    "data['CRESC_REC_5A'].describe()"
   ]
  },
  {
   "cell_type": "markdown",
   "id": "c117a180-5a2d-4795-a566-40624d9e0d0c",
   "metadata": {},
   "source": [
    "#### LIQUIDEZ CORRENTE"
   ]
  },
  {
   "cell_type": "code",
   "execution_count": 21,
   "id": "f315a25a-c595-48dd-a82d-a0041690b722",
   "metadata": {},
   "outputs": [
    {
     "data": {
      "text/plain": [
       "count    987.000000\n",
       "mean       1.910304\n",
       "std        4.827732\n",
       "min        0.000000\n",
       "25%        0.450000\n",
       "50%        1.260000\n",
       "75%        2.100000\n",
       "max       78.920000\n",
       "Name: LIQ_CORR, dtype: float64"
      ]
     },
     "execution_count": 21,
     "metadata": {},
     "output_type": "execute_result"
    }
   ],
   "source": [
    "data['LIQ_CORR'].describe()"
   ]
  },
  {
   "cell_type": "markdown",
   "id": "89515d79",
   "metadata": {},
   "source": [
    "## ATIVIDADE 2"
   ]
  },
  {
   "cell_type": "markdown",
   "id": "aa7ed93d-b079-43f0-a473-379677355878",
   "metadata": {},
   "source": [
    "1. Analisar Dividend Yields das empresas\n",
    "2. Calcular a média do *DIVIDEND YIELD* das empresas com *MARGEM LÍQUIDA* ACIMA DE 10%\n",
    "3. Verificar percentual de empresas pagadoras de dividendos que tem P/L acima de 4.\n",
    "4. Analisar quais empresas tem *LIQUIDEZ CORRENTE* acima de 1, TEM *ROE* acima da média das empreas e *DIVIDEND YIELD* maior ou igual a 6.\n",
    "5. Criar Gráfico de Barra Horizontal com as 5 primeiras empresas, resultantes da análise anterior"
   ]
  },
  {
   "cell_type": "markdown",
   "id": "4754fc2d-ea0e-4103-8404-d1e6458cd67d",
   "metadata": {},
   "source": [
    "### Análise dos dividendos das Empresas"
   ]
  },
  {
   "cell_type": "markdown",
   "id": "df7a54de-ce40-4f3a-ae9b-4cb78ec4bbfb",
   "metadata": {},
   "source": [
    "#### Distribuição dos valores de DIVIDEND YIELD das empresas"
   ]
  },
  {
   "cell_type": "code",
   "execution_count": 26,
   "id": "f95c4365-49f4-4e66-918c-32444d396f82",
   "metadata": {},
   "outputs": [
    {
     "name": "stderr",
     "output_type": "stream",
     "text": [
      "/home/maercio/anaconda3/lib/python3.11/site-packages/seaborn/_oldcore.py:1119: FutureWarning: use_inf_as_na option is deprecated and will be removed in a future version. Convert inf values to NaN before operating instead.\n",
      "  with pd.option_context('mode.use_inf_as_na', True):\n"
     ]
    },
    {
     "data": {
      "text/plain": [
       "Text(0.5, 1.0, 'Histograma dos dividendos das empresas')"
      ]
     },
     "execution_count": 26,
     "metadata": {},
     "output_type": "execute_result"
    },
    {
     "data": {
      "image/png": "[encoded data removed]",
      "text/plain": [
       "<Figure size 640x480 with 1 Axes>"
      ]
     },
     "metadata": {},
     "output_type": "display_data"
    }
   ],
   "source": [
    "# Histograma com todos os dados da coluna DIV_YIELD\n",
    "\n",
    "sns.histplot(data['DIV_YIELD'], bins=10)\n",
    "plt.title('Histograma dos dividendos das empresas')"
   ]
  },
  {
   "cell_type": "code",
   "execution_count": 27,
   "id": "3f134a65-571d-44f9-8f59-f95274bc0bfa",
   "metadata": {},
   "outputs": [
    {
     "data": {
      "text/plain": [
       "Text(0.5, 1.0, 'Distribuição dos valores de Dividend Yields das Empresas')"
      ]
     },
     "execution_count": 27,
     "metadata": {},
     "output_type": "execute_result"
    },
    {
     "data": {
      "image/png": "[encoded data removed]",
      "text/plain": [
       "<Figure size 640x480 with 1 Axes>"
      ]
     },
     "metadata": {},
     "output_type": "display_data"
    }
   ],
   "source": [
    "# Boxplot com todos os dados da coluna DIV_YIELD\n",
    "\n",
    "sns.boxplot(x='DIV_YIELD', data=data.sort_values(by='DIV_YIELD'))\n",
    "plt.ylabel('companies')\n",
    "plt.title('Distribuição dos valores de Dividend Yields das Empresas')\n"
   ]
  },
  {
   "cell_type": "markdown",
   "id": "6ddbefbd-5e2b-4424-9c3a-e8f4f9eff5f8",
   "metadata": {},
   "source": [
    "#### Empresas com  DIVIDEND YIELD IGUAL A ZERO"
   ]
  },
  {
   "cell_type": "code",
   "execution_count": 29,
   "id": "cc38dde4-294f-4268-8cab-365f79423bf1",
   "metadata": {},
   "outputs": [
    {
     "name": "stdout",
     "output_type": "stream",
     "text": [
      "     PAPEL  DIV_YIELD\n",
      "0    POPR4        0.0\n",
      "1    PORP4        0.0\n",
      "2    CFLU4        0.0\n",
      "3    CSTB3        0.0\n",
      "4    PMET3        0.0\n",
      "..     ...        ...\n",
      "982  UBBR3        0.0\n",
      "983  CEPE3        0.0\n",
      "984  SEER3        0.0\n",
      "985  SHOW3        0.0\n",
      "986  LWSA3        0.0\n",
      "\n",
      "[674 rows x 2 columns]\n",
      "\u001b[31m⚠68.29% das empresas da base de dados têm diviend yield igual à zero\n"
     ]
    }
   ],
   "source": [
    "companies_zero_div = data.query('DIV_YIELD == 0')\n",
    "num_companies_zero_div = companies_zero_div.shape[0]\n",
    "companies_total =data.shape[0]\n",
    "print(companies_zero_div[['PAPEL', 'DIV_YIELD']])   \n",
    "print('\\033[31m' +\"\\U000026A0{:.2f}% das empresas da base de dados têm diviend yield igual à zero\".format((num_companies_zero_div/companies_total)*100))"
   ]
  },
  {
   "cell_type": "markdown",
   "id": "acd05c2b-a938-43c7-8fcf-5df5e8a8898d",
   "metadata": {},
   "source": [
    "#### Empresas TOP 10 em relação do DIVIDEND YIELD"
   ]
  },
  {
   "cell_type": "code",
   "execution_count": 31,
   "id": "483ca19d-bb64-455c-b87a-9b7662d5b58d",
   "metadata": {},
   "outputs": [
    {
     "data": {
      "text/html": [
       "<div>\n",
       "<style scoped>\n",
       "    .dataframe tbody tr th:only-of-type {\n",
       "        vertical-align: middle;\n",
       "    }\n",
       "\n",
       "    .dataframe tbody tr th {\n",
       "        vertical-align: top;\n",
       "    }\n",
       "\n",
       "    .dataframe thead th {\n",
       "        text-align: right;\n",
       "    }\n",
       "</style>\n",
       "<table border=\"1\" class=\"dataframe\">\n",
       "  <thead>\n",
       "    <tr style=\"text-align: right;\">\n",
       "      <th></th>\n",
       "      <th>PAPEL</th>\n",
       "      <th>DIV_YIELD</th>\n",
       "    </tr>\n",
       "  </thead>\n",
       "  <tbody>\n",
       "    <tr>\n",
       "      <th>238</th>\n",
       "      <td>BRPR3</td>\n",
       "      <td>12.0289</td>\n",
       "    </tr>\n",
       "    <tr>\n",
       "      <th>115</th>\n",
       "      <td>CASH3</td>\n",
       "      <td>1.1966</td>\n",
       "    </tr>\n",
       "    <tr>\n",
       "      <th>422</th>\n",
       "      <td>TRPN3</td>\n",
       "      <td>1.0474</td>\n",
       "    </tr>\n",
       "    <tr>\n",
       "      <th>119</th>\n",
       "      <td>EPAR3</td>\n",
       "      <td>0.5031</td>\n",
       "    </tr>\n",
       "    <tr>\n",
       "      <th>451</th>\n",
       "      <td>SYNE3</td>\n",
       "      <td>0.3744</td>\n",
       "    </tr>\n",
       "    <tr>\n",
       "      <th>323</th>\n",
       "      <td>BPAT33</td>\n",
       "      <td>0.3572</td>\n",
       "    </tr>\n",
       "    <tr>\n",
       "      <th>495</th>\n",
       "      <td>ALLD3</td>\n",
       "      <td>0.2650</td>\n",
       "    </tr>\n",
       "    <tr>\n",
       "      <th>548</th>\n",
       "      <td>LEVE3</td>\n",
       "      <td>0.2540</td>\n",
       "    </tr>\n",
       "    <tr>\n",
       "      <th>832</th>\n",
       "      <td>PATI4</td>\n",
       "      <td>0.2456</td>\n",
       "    </tr>\n",
       "    <tr>\n",
       "      <th>597</th>\n",
       "      <td>EKTR3</td>\n",
       "      <td>0.2168</td>\n",
       "    </tr>\n",
       "  </tbody>\n",
       "</table>\n",
       "</div>"
      ],
      "text/plain": [
       "      PAPEL  DIV_YIELD\n",
       "238   BRPR3    12.0289\n",
       "115   CASH3     1.1966\n",
       "422   TRPN3     1.0474\n",
       "119   EPAR3     0.5031\n",
       "451   SYNE3     0.3744\n",
       "323  BPAT33     0.3572\n",
       "495   ALLD3     0.2650\n",
       "548   LEVE3     0.2540\n",
       "832   PATI4     0.2456\n",
       "597   EKTR3     0.2168"
      ]
     },
     "execution_count": 31,
     "metadata": {},
     "output_type": "execute_result"
    }
   ],
   "source": [
    "data[['PAPEL','DIV_YIELD']].sort_values(by='DIV_YIELD', ascending=False).head(10)"
   ]
  },
  {
   "cell_type": "markdown",
   "id": "dd33fc6c-5904-4138-a395-b546cff7e0ab",
   "metadata": {},
   "source": [
    "#### Empresas com dividend yield menor que 1 e maior que zero"
   ]
  },
  {
   "cell_type": "code",
   "execution_count": 33,
   "id": "2beab1bb-2d39-4a48-a3a5-9fdb3d1e9b1e",
   "metadata": {},
   "outputs": [
    {
     "data": {
      "text/plain": [
       "count    310.000000\n",
       "mean       0.061966\n",
       "std        0.058855\n",
       "min        0.000400\n",
       "25%        0.026725\n",
       "50%        0.047300\n",
       "75%        0.078275\n",
       "max        0.503100\n",
       "Name: DIV_YIELD, dtype: float64"
      ]
     },
     "execution_count": 33,
     "metadata": {},
     "output_type": "execute_result"
    }
   ],
   "source": [
    "dividend_clean = data.query('DIV_YIELD < 1 and DIV_YIELD > 0')\n",
    "dividend_clean['DIV_YIELD'].describe()"
   ]
  },
  {
   "cell_type": "code",
   "execution_count": 34,
   "id": "912f30d4-fe59-4a83-a2c2-2829c79bebf1",
   "metadata": {},
   "outputs": [
    {
     "data": {
      "text/plain": [
       "Text(0.5, 1.0, 'Distribuição dos valores de Dividend Yields das Empresas')"
      ]
     },
     "execution_count": 34,
     "metadata": {},
     "output_type": "execute_result"
    },
    {
     "data": {
      "image/png": "[encoded data removed]",
      "text/plain": [
       "<Figure size 640x480 with 1 Axes>"
      ]
     },
     "metadata": {},
     "output_type": "display_data"
    }
   ],
   "source": [
    "sns.boxplot(x='DIV_YIELD', data=dividend_clean)\n",
    "plt.ylabel('companies')\n",
    "plt.title('Distribuição dos valores de Dividend Yields das Empresas')"
   ]
  },
  {
   "cell_type": "markdown",
   "id": "3a9b5716-8044-4e73-a337-d1315c710cab",
   "metadata": {},
   "source": [
    "#### DIVIDEND YIELD das empresas com MARGEM LÍQUIDA MAIOR QUE 10%"
   ]
  },
  {
   "cell_type": "code",
   "execution_count": 36,
   "id": "d23ad078-7f49-4059-98b5-6982439cfb0c",
   "metadata": {},
   "outputs": [
    {
     "data": {
      "text/plain": [
       "count    155.000000\n",
       "mean       0.069250\n",
       "std        0.053471\n",
       "min        0.001700\n",
       "25%        0.034350\n",
       "50%        0.054100\n",
       "75%        0.090600\n",
       "max        0.374400\n",
       "Name: DIV_YIELD, dtype: float64"
      ]
     },
     "execution_count": 36,
     "metadata": {},
     "output_type": "execute_result"
    }
   ],
   "source": [
    "dividend_top = dividend_clean.query(\"MRG_LIQ > 0.1\")\n",
    "dividend_top['DIV_YIELD'].describe()"
   ]
  },
  {
   "cell_type": "code",
   "execution_count": 37,
   "id": "04b8030f",
   "metadata": {},
   "outputs": [
    {
     "name": "stderr",
     "output_type": "stream",
     "text": [
      "/home/maercio/anaconda3/lib/python3.11/site-packages/seaborn/_oldcore.py:1119: FutureWarning: use_inf_as_na option is deprecated and will be removed in a future version. Convert inf values to NaN before operating instead.\n",
      "  with pd.option_context('mode.use_inf_as_na', True):\n"
     ]
    },
    {
     "data": {
      "text/plain": [
       "Text(0.5, 0, 'dividend yield')"
      ]
     },
     "execution_count": 37,
     "metadata": {},
     "output_type": "execute_result"
    },
    {
     "data": {
      "image/png": "[encoded data removed]",
      "text/plain": [
       "<Figure size 640x480 with 1 Axes>"
      ]
     },
     "metadata": {},
     "output_type": "display_data"
    }
   ],
   "source": [
    "sns.histplot(dividend_top['DIV_YIELD'], bins=10)\n",
    "plt.title('Histograma dos dividendos das empresas')\n",
    "plt.ylabel('quantidade de empresas')\n",
    "plt.xlabel('dividend yield')"
   ]
  },
  {
   "cell_type": "code",
   "execution_count": 38,
   "id": "e176bb48-e94d-4ff3-a7aa-2697323a15ca",
   "metadata": {},
   "outputs": [
    {
     "data": {
      "text/plain": [
       "count    155.000000\n",
       "mean       0.594205\n",
       "std        2.172754\n",
       "min        0.101300\n",
       "25%        0.124800\n",
       "50%        0.178500\n",
       "75%        0.262200\n",
       "max       13.812900\n",
       "Name: MRG_LIQ, dtype: float64"
      ]
     },
     "execution_count": 38,
     "metadata": {},
     "output_type": "execute_result"
    }
   ],
   "source": [
    "dividend_top['MRG_LIQ'].describe()"
   ]
  },
  {
   "cell_type": "code",
   "execution_count": 39,
   "id": "132a0991-0d60-4987-9b98-7c4cd5ffbecb",
   "metadata": {},
   "outputs": [
    {
     "name": "stderr",
     "output_type": "stream",
     "text": [
      "/home/maercio/anaconda3/lib/python3.11/site-packages/seaborn/_oldcore.py:1119: FutureWarning: use_inf_as_na option is deprecated and will be removed in a future version. Convert inf values to NaN before operating instead.\n",
      "  with pd.option_context('mode.use_inf_as_na', True):\n"
     ]
    },
    {
     "data": {
      "text/plain": [
       "Text(0.5, 0, 'MARGEM LÍQUIDA')"
      ]
     },
     "execution_count": 39,
     "metadata": {},
     "output_type": "execute_result"
    },
    {
     "data": {
      "image/png": "[encoded data removed]",
      "text/plain": [
       "<Figure size 640x480 with 1 Axes>"
      ]
     },
     "metadata": {},
     "output_type": "display_data"
    }
   ],
   "source": [
    "sns.histplot(dividend_top['MRG_LIQ'], bins=10)\n",
    "plt.title('Histograma dos dividendos das empresas')\n",
    "plt.ylabel('quantidade de empresas')\n",
    "plt.xlabel('MARGEM LÍQUIDA')"
   ]
  },
  {
   "cell_type": "code",
   "execution_count": 40,
   "id": "7711927a-070c-4317-a8ba-40b12bbc4dd6",
   "metadata": {},
   "outputs": [
    {
     "data": {
      "text/plain": [
       "<Axes: xlabel='MRG_LIQ'>"
      ]
     },
     "execution_count": 40,
     "metadata": {},
     "output_type": "execute_result"
    },
    {
     "data": {
      "image/png": "[encoded data removed]",
      "text/plain": [
       "<Figure size 640x480 with 1 Axes>"
      ]
     },
     "metadata": {},
     "output_type": "display_data"
    }
   ],
   "source": [
    "sns.boxplot(x=dividend_top['MRG_LIQ'])"
   ]
  },
  {
   "cell_type": "code",
   "execution_count": 41,
   "id": "b6f09aee-1783-4234-a40d-691a4217b402",
   "metadata": {},
   "outputs": [
    {
     "data": {
      "text/html": [
       "<div>\n",
       "<style scoped>\n",
       "    .dataframe tbody tr th:only-of-type {\n",
       "        vertical-align: middle;\n",
       "    }\n",
       "\n",
       "    .dataframe tbody tr th {\n",
       "        vertical-align: top;\n",
       "    }\n",
       "\n",
       "    .dataframe thead th {\n",
       "        text-align: right;\n",
       "    }\n",
       "</style>\n",
       "<table border=\"1\" class=\"dataframe\">\n",
       "  <thead>\n",
       "    <tr style=\"text-align: right;\">\n",
       "      <th></th>\n",
       "      <th>PAPEL</th>\n",
       "      <th>DIV_YIELD</th>\n",
       "      <th>MRG_LIQ</th>\n",
       "    </tr>\n",
       "  </thead>\n",
       "  <tbody>\n",
       "    <tr>\n",
       "      <th>899</th>\n",
       "      <td>BRGE11</td>\n",
       "      <td>0.0214</td>\n",
       "      <td>13.8129</td>\n",
       "    </tr>\n",
       "    <tr>\n",
       "      <th>897</th>\n",
       "      <td>BRGE8</td>\n",
       "      <td>0.0178</td>\n",
       "      <td>13.8129</td>\n",
       "    </tr>\n",
       "    <tr>\n",
       "      <th>895</th>\n",
       "      <td>BRGE7</td>\n",
       "      <td>0.0251</td>\n",
       "      <td>13.8129</td>\n",
       "    </tr>\n",
       "    <tr>\n",
       "      <th>893</th>\n",
       "      <td>BRGE6</td>\n",
       "      <td>0.0436</td>\n",
       "      <td>13.8129</td>\n",
       "    </tr>\n",
       "    <tr>\n",
       "      <th>603</th>\n",
       "      <td>ITSA3</td>\n",
       "      <td>0.0660</td>\n",
       "      <td>1.9175</td>\n",
       "    </tr>\n",
       "    <tr>\n",
       "      <th>...</th>\n",
       "      <td>...</td>\n",
       "      <td>...</td>\n",
       "      <td>...</td>\n",
       "    </tr>\n",
       "    <tr>\n",
       "      <th>631</th>\n",
       "      <td>ENGI11</td>\n",
       "      <td>0.0417</td>\n",
       "      <td>0.1035</td>\n",
       "    </tr>\n",
       "    <tr>\n",
       "      <th>743</th>\n",
       "      <td>ENGI3</td>\n",
       "      <td>0.0274</td>\n",
       "      <td>0.1035</td>\n",
       "    </tr>\n",
       "    <tr>\n",
       "      <th>588</th>\n",
       "      <td>NTCO3</td>\n",
       "      <td>0.0529</td>\n",
       "      <td>0.1022</td>\n",
       "    </tr>\n",
       "    <tr>\n",
       "      <th>793</th>\n",
       "      <td>FRAS3</td>\n",
       "      <td>0.0300</td>\n",
       "      <td>0.1016</td>\n",
       "    </tr>\n",
       "    <tr>\n",
       "      <th>511</th>\n",
       "      <td>NEOE3</td>\n",
       "      <td>0.0416</td>\n",
       "      <td>0.1013</td>\n",
       "    </tr>\n",
       "  </tbody>\n",
       "</table>\n",
       "<p>155 rows × 3 columns</p>\n",
       "</div>"
      ],
      "text/plain": [
       "      PAPEL  DIV_YIELD  MRG_LIQ\n",
       "899  BRGE11     0.0214  13.8129\n",
       "897   BRGE8     0.0178  13.8129\n",
       "895   BRGE7     0.0251  13.8129\n",
       "893   BRGE6     0.0436  13.8129\n",
       "603   ITSA3     0.0660   1.9175\n",
       "..      ...        ...      ...\n",
       "631  ENGI11     0.0417   0.1035\n",
       "743   ENGI3     0.0274   0.1035\n",
       "588   NTCO3     0.0529   0.1022\n",
       "793   FRAS3     0.0300   0.1016\n",
       "511   NEOE3     0.0416   0.1013\n",
       "\n",
       "[155 rows x 3 columns]"
      ]
     },
     "execution_count": 41,
     "metadata": {},
     "output_type": "execute_result"
    }
   ],
   "source": [
    "dividend_top[['PAPEL', 'DIV_YIELD', 'MRG_LIQ']].sort_values(by='MRG_LIQ', ascending=False)"
   ]
  },
  {
   "cell_type": "markdown",
   "id": "b0df2b78-21b3-484d-9b0c-548b1f9f7f8f",
   "metadata": {},
   "source": [
    "#### Percentual das empresas pagadoras de dividendos que possuem P/L maior que 4"
   ]
  },
  {
   "cell_type": "code",
   "execution_count": 43,
   "id": "26f1e2c9",
   "metadata": {},
   "outputs": [
    {
     "name": "stdout",
     "output_type": "stream",
     "text": [
      "\u001b[31m⚠ 28.17% das empresas pagadores de dividendos tem P/L maior que 4\n"
     ]
    },
    {
     "data": {
      "text/plain": [
       "count    278.000000\n",
       "mean      16.971942\n",
       "std       30.803717\n",
       "min        4.050000\n",
       "25%        7.040000\n",
       "50%       10.130000\n",
       "75%       16.925000\n",
       "max      363.710000\n",
       "Name: P_L, dtype: float64"
      ]
     },
     "execution_count": 43,
     "metadata": {},
     "output_type": "execute_result"
    }
   ],
   "source": [
    "df_PL_company = dividend_clean.query(\"P_L > 4\")\n",
    "percentual_company = (df_PL_company.shape[0]/data.shape[0])*100\n",
    "print( '\\033[31m' + \"\\U000026A0 {:.2f}% das empresas pagadores de dividendos tem P/L maior que 4\".format(percentual_company, 2))\n",
    "\n",
    "df_PL_company['P_L'].describe()"
   ]
  },
  {
   "cell_type": "code",
   "execution_count": 44,
   "id": "09b37c20-ce6f-4ae3-8d27-9dbd40a50b9d",
   "metadata": {},
   "outputs": [
    {
     "data": {
      "text/html": [
       "<div>\n",
       "<style scoped>\n",
       "    .dataframe tbody tr th:only-of-type {\n",
       "        vertical-align: middle;\n",
       "    }\n",
       "\n",
       "    .dataframe tbody tr th {\n",
       "        vertical-align: top;\n",
       "    }\n",
       "\n",
       "    .dataframe thead th {\n",
       "        text-align: right;\n",
       "    }\n",
       "</style>\n",
       "<table border=\"1\" class=\"dataframe\">\n",
       "  <thead>\n",
       "    <tr style=\"text-align: right;\">\n",
       "      <th></th>\n",
       "      <th>PAPEL</th>\n",
       "      <th>DIV_YIELD</th>\n",
       "      <th>MRG_LIQ</th>\n",
       "      <th>P_L</th>\n",
       "    </tr>\n",
       "  </thead>\n",
       "  <tbody>\n",
       "    <tr>\n",
       "      <th>974</th>\n",
       "      <td>CALI3</td>\n",
       "      <td>0.0238</td>\n",
       "      <td>0.0041</td>\n",
       "      <td>363.71</td>\n",
       "    </tr>\n",
       "    <tr>\n",
       "      <th>969</th>\n",
       "      <td>SUZB3</td>\n",
       "      <td>0.0224</td>\n",
       "      <td>0.0060</td>\n",
       "      <td>306.64</td>\n",
       "    </tr>\n",
       "    <tr>\n",
       "      <th>961</th>\n",
       "      <td>VSTE3</td>\n",
       "      <td>0.0038</td>\n",
       "      <td>0.0105</td>\n",
       "      <td>123.37</td>\n",
       "    </tr>\n",
       "    <tr>\n",
       "      <th>952</th>\n",
       "      <td>CASN3</td>\n",
       "      <td>0.0010</td>\n",
       "      <td>0.0657</td>\n",
       "      <td>103.19</td>\n",
       "    </tr>\n",
       "    <tr>\n",
       "      <th>948</th>\n",
       "      <td>MSPA3</td>\n",
       "      <td>0.0069</td>\n",
       "      <td>0.0193</td>\n",
       "      <td>89.73</td>\n",
       "    </tr>\n",
       "    <tr>\n",
       "      <th>...</th>\n",
       "      <td>...</td>\n",
       "      <td>...</td>\n",
       "      <td>...</td>\n",
       "      <td>...</td>\n",
       "    </tr>\n",
       "    <tr>\n",
       "      <th>485</th>\n",
       "      <td>VBBR3</td>\n",
       "      <td>0.0732</td>\n",
       "      <td>0.0369</td>\n",
       "      <td>4.26</td>\n",
       "    </tr>\n",
       "    <tr>\n",
       "      <th>484</th>\n",
       "      <td>PINE4</td>\n",
       "      <td>0.0776</td>\n",
       "      <td>0.0000</td>\n",
       "      <td>4.26</td>\n",
       "    </tr>\n",
       "    <tr>\n",
       "      <th>483</th>\n",
       "      <td>BGIP3</td>\n",
       "      <td>0.0785</td>\n",
       "      <td>0.0000</td>\n",
       "      <td>4.24</td>\n",
       "    </tr>\n",
       "    <tr>\n",
       "      <th>480</th>\n",
       "      <td>CSRN3</td>\n",
       "      <td>0.1992</td>\n",
       "      <td>0.1530</td>\n",
       "      <td>4.12</td>\n",
       "    </tr>\n",
       "    <tr>\n",
       "      <th>478</th>\n",
       "      <td>BRAP3</td>\n",
       "      <td>0.1429</td>\n",
       "      <td>0.0000</td>\n",
       "      <td>4.05</td>\n",
       "    </tr>\n",
       "  </tbody>\n",
       "</table>\n",
       "<p>278 rows × 4 columns</p>\n",
       "</div>"
      ],
      "text/plain": [
       "     PAPEL  DIV_YIELD  MRG_LIQ     P_L\n",
       "974  CALI3     0.0238   0.0041  363.71\n",
       "969  SUZB3     0.0224   0.0060  306.64\n",
       "961  VSTE3     0.0038   0.0105  123.37\n",
       "952  CASN3     0.0010   0.0657  103.19\n",
       "948  MSPA3     0.0069   0.0193   89.73\n",
       "..     ...        ...      ...     ...\n",
       "485  VBBR3     0.0732   0.0369    4.26\n",
       "484  PINE4     0.0776   0.0000    4.26\n",
       "483  BGIP3     0.0785   0.0000    4.24\n",
       "480  CSRN3     0.1992   0.1530    4.12\n",
       "478  BRAP3     0.1429   0.0000    4.05\n",
       "\n",
       "[278 rows x 4 columns]"
      ]
     },
     "execution_count": 44,
     "metadata": {},
     "output_type": "execute_result"
    }
   ],
   "source": [
    "df_PL_company[['PAPEL', 'DIV_YIELD', 'MRG_LIQ', 'P_L']].sort_values(by='P_L', ascending=False)"
   ]
  },
  {
   "cell_type": "code",
   "execution_count": 45,
   "id": "0b36e166-d5a6-4d76-a1a7-3c545a39a567",
   "metadata": {},
   "outputs": [
    {
     "name": "stderr",
     "output_type": "stream",
     "text": [
      "/home/maercio/anaconda3/lib/python3.11/site-packages/seaborn/_oldcore.py:1119: FutureWarning: use_inf_as_na option is deprecated and will be removed in a future version. Convert inf values to NaN before operating instead.\n",
      "  with pd.option_context('mode.use_inf_as_na', True):\n"
     ]
    },
    {
     "data": {
      "text/plain": [
       "Text(0.5, 0, 'Preço/Lucro')"
      ]
     },
     "execution_count": 45,
     "metadata": {},
     "output_type": "execute_result"
    },
    {
     "data": {
      "image/png": "[encoded data removed]",
      "text/plain": [
       "<Figure size 640x480 with 1 Axes>"
      ]
     },
     "metadata": {},
     "output_type": "display_data"
    }
   ],
   "source": [
    "sns.histplot(df_PL_company['P_L'], bins=10)\n",
    "plt.title('Histograma do P/L das empresas')\n",
    "plt.ylabel('quantidade de empresas')\n",
    "plt.xlabel('Preço/Lucro')"
   ]
  },
  {
   "cell_type": "markdown",
   "id": "e2e1fe8e-9793-44a9-a5f2-eff429aa3a35",
   "metadata": {},
   "source": [
    "#### Média do ROE das empresas pagadoras de dividendos"
   ]
  },
  {
   "cell_type": "code",
   "execution_count": 47,
   "id": "13f966b8-d66f-4c5f-a770-48a0b139dc01",
   "metadata": {},
   "outputs": [
    {
     "name": "stdout",
     "output_type": "stream",
     "text": [
      "⚠ A média do ROE das empresas pagadoras de dividendos é: 0.15\n"
     ]
    },
    {
     "data": {
      "text/plain": [
       "count    310.000000\n",
       "mean       0.151228\n",
       "std        0.195617\n",
       "min       -0.241400\n",
       "25%        0.069700\n",
       "50%        0.127350\n",
       "75%        0.196550\n",
       "max        1.986600\n",
       "Name: ROE, dtype: float64"
      ]
     },
     "execution_count": 47,
     "metadata": {},
     "output_type": "execute_result"
    }
   ],
   "source": [
    "dividend_average = dividend_clean['ROE']\n",
    "print(  \"\\U000026A0 A média do ROE das empresas pagadoras de dividendos é: {:.2f}\".format(dividend_average.mean()))\n",
    "dividend_average.describe()"
   ]
  },
  {
   "cell_type": "code",
   "execution_count": 48,
   "id": "3d8ddff5-9b15-46c8-8aef-84e487085e58",
   "metadata": {},
   "outputs": [
    {
     "data": {
      "text/plain": [
       "0.061965806451612884"
      ]
     },
     "execution_count": 48,
     "metadata": {},
     "output_type": "execute_result"
    }
   ],
   "source": [
    "dividend_clean['DIV_YIELD'].mean()"
   ]
  },
  {
   "cell_type": "markdown",
   "id": "f274dd17-e547-4a93-82f6-078de2b91f75",
   "metadata": {},
   "source": [
    "#### Empresas pagadoras de dividendo com *LIQUIDEZ CORRENTE* acima de 1, e *ROE* acima da média."
   ]
  },
  {
   "cell_type": "code",
   "execution_count": 50,
   "id": "3fb8e471",
   "metadata": {},
   "outputs": [
    {
     "data": {
      "text/html": [
       "<div>\n",
       "<style scoped>\n",
       "    .dataframe tbody tr th:only-of-type {\n",
       "        vertical-align: middle;\n",
       "    }\n",
       "\n",
       "    .dataframe tbody tr th {\n",
       "        vertical-align: top;\n",
       "    }\n",
       "\n",
       "    .dataframe thead th {\n",
       "        text-align: right;\n",
       "    }\n",
       "</style>\n",
       "<table border=\"1\" class=\"dataframe\">\n",
       "  <thead>\n",
       "    <tr style=\"text-align: right;\">\n",
       "      <th></th>\n",
       "      <th>PAPEL</th>\n",
       "      <th>COTACAO</th>\n",
       "      <th>P_L</th>\n",
       "      <th>P_VP</th>\n",
       "      <th>PSR</th>\n",
       "      <th>DIV_YIELD</th>\n",
       "      <th>P_ATIVO</th>\n",
       "      <th>P_CAP_GIRO</th>\n",
       "      <th>P_EBIT</th>\n",
       "      <th>P_ATIV_CIRC_LIQ</th>\n",
       "      <th>EV_EBIT</th>\n",
       "      <th>EV_EBITDA</th>\n",
       "      <th>MRG_EBIT</th>\n",
       "      <th>MRG_LIQ</th>\n",
       "      <th>LIQ_CORR</th>\n",
       "      <th>ROIC</th>\n",
       "      <th>ROE</th>\n",
       "      <th>LIQ_2MESES</th>\n",
       "      <th>PATRIM_LIQ</th>\n",
       "      <th>DIV_BRUT_PATRIM</th>\n",
       "      <th>CRESC_REC_5A</th>\n",
       "    </tr>\n",
       "  </thead>\n",
       "  <tbody>\n",
       "    <tr>\n",
       "      <th>438</th>\n",
       "      <td>HBTS5</td>\n",
       "      <td>35.50</td>\n",
       "      <td>1.72</td>\n",
       "      <td>0.48</td>\n",
       "      <td>1.020</td>\n",
       "      <td>0.0856</td>\n",
       "      <td>0.205</td>\n",
       "      <td>2.95</td>\n",
       "      <td>1.94</td>\n",
       "      <td>-0.47</td>\n",
       "      <td>3.21</td>\n",
       "      <td>3.19</td>\n",
       "      <td>0.5260</td>\n",
       "      <td>0.5923</td>\n",
       "      <td>2.10</td>\n",
       "      <td>0.1084</td>\n",
       "      <td>0.2779</td>\n",
       "      <td>5701.87</td>\n",
       "      <td>6.773130e+08</td>\n",
       "      <td>0.36</td>\n",
       "      <td>0.5439</td>\n",
       "    </tr>\n",
       "    <tr>\n",
       "      <th>451</th>\n",
       "      <td>SYNE3</td>\n",
       "      <td>7.70</td>\n",
       "      <td>2.49</td>\n",
       "      <td>0.59</td>\n",
       "      <td>0.830</td>\n",
       "      <td>0.3744</td>\n",
       "      <td>0.259</td>\n",
       "      <td>0.77</td>\n",
       "      <td>2.18</td>\n",
       "      <td>4.86</td>\n",
       "      <td>1.49</td>\n",
       "      <td>1.29</td>\n",
       "      <td>0.3802</td>\n",
       "      <td>0.4231</td>\n",
       "      <td>5.74</td>\n",
       "      <td>0.1714</td>\n",
       "      <td>0.2357</td>\n",
       "      <td>6715560.00</td>\n",
       "      <td>2.005940e+09</td>\n",
       "      <td>0.50</td>\n",
       "      <td>0.2291</td>\n",
       "    </tr>\n",
       "    <tr>\n",
       "      <th>459</th>\n",
       "      <td>POSI3</td>\n",
       "      <td>5.88</td>\n",
       "      <td>2.91</td>\n",
       "      <td>0.50</td>\n",
       "      <td>0.195</td>\n",
       "      <td>0.0711</td>\n",
       "      <td>0.188</td>\n",
       "      <td>0.56</td>\n",
       "      <td>2.25</td>\n",
       "      <td>2.65</td>\n",
       "      <td>4.17</td>\n",
       "      <td>3.61</td>\n",
       "      <td>0.0865</td>\n",
       "      <td>0.0679</td>\n",
       "      <td>1.95</td>\n",
       "      <td>0.1160</td>\n",
       "      <td>0.1721</td>\n",
       "      <td>11893900.00</td>\n",
       "      <td>1.665330e+09</td>\n",
       "      <td>0.74</td>\n",
       "      <td>0.2227</td>\n",
       "    </tr>\n",
       "    <tr>\n",
       "      <th>475</th>\n",
       "      <td>BAZA3</td>\n",
       "      <td>92.10</td>\n",
       "      <td>3.92</td>\n",
       "      <td>0.80</td>\n",
       "      <td>0.000</td>\n",
       "      <td>0.0717</td>\n",
       "      <td>0.000</td>\n",
       "      <td>0.00</td>\n",
       "      <td>0.00</td>\n",
       "      <td>0.00</td>\n",
       "      <td>0.00</td>\n",
       "      <td>0.00</td>\n",
       "      <td>0.0000</td>\n",
       "      <td>0.0000</td>\n",
       "      <td>0.00</td>\n",
       "      <td>0.0000</td>\n",
       "      <td>0.2040</td>\n",
       "      <td>273420.00</td>\n",
       "      <td>6.461360e+09</td>\n",
       "      <td>0.00</td>\n",
       "      <td>0.1884</td>\n",
       "    </tr>\n",
       "    <tr>\n",
       "      <th>476</th>\n",
       "      <td>BGIP4</td>\n",
       "      <td>25.00</td>\n",
       "      <td>3.95</td>\n",
       "      <td>0.65</td>\n",
       "      <td>0.000</td>\n",
       "      <td>0.0925</td>\n",
       "      <td>0.000</td>\n",
       "      <td>0.00</td>\n",
       "      <td>0.00</td>\n",
       "      <td>0.00</td>\n",
       "      <td>0.00</td>\n",
       "      <td>0.00</td>\n",
       "      <td>0.0000</td>\n",
       "      <td>0.0000</td>\n",
       "      <td>0.00</td>\n",
       "      <td>0.0000</td>\n",
       "      <td>0.1643</td>\n",
       "      <td>50158.10</td>\n",
       "      <td>7.147290e+08</td>\n",
       "      <td>0.00</td>\n",
       "      <td>0.0276</td>\n",
       "    </tr>\n",
       "    <tr>\n",
       "      <th>...</th>\n",
       "      <td>...</td>\n",
       "      <td>...</td>\n",
       "      <td>...</td>\n",
       "      <td>...</td>\n",
       "      <td>...</td>\n",
       "      <td>...</td>\n",
       "      <td>...</td>\n",
       "      <td>...</td>\n",
       "      <td>...</td>\n",
       "      <td>...</td>\n",
       "      <td>...</td>\n",
       "      <td>...</td>\n",
       "      <td>...</td>\n",
       "      <td>...</td>\n",
       "      <td>...</td>\n",
       "      <td>...</td>\n",
       "      <td>...</td>\n",
       "      <td>...</td>\n",
       "      <td>...</td>\n",
       "      <td>...</td>\n",
       "      <td>...</td>\n",
       "    </tr>\n",
       "    <tr>\n",
       "      <th>709</th>\n",
       "      <td>CURY3</td>\n",
       "      <td>22.70</td>\n",
       "      <td>11.38</td>\n",
       "      <td>7.25</td>\n",
       "      <td>1.949</td>\n",
       "      <td>0.0735</td>\n",
       "      <td>1.663</td>\n",
       "      <td>4.34</td>\n",
       "      <td>8.58</td>\n",
       "      <td>-175.84</td>\n",
       "      <td>7.96</td>\n",
       "      <td>7.69</td>\n",
       "      <td>0.2271</td>\n",
       "      <td>0.1785</td>\n",
       "      <td>2.12</td>\n",
       "      <td>0.3379</td>\n",
       "      <td>0.6372</td>\n",
       "      <td>45709900.00</td>\n",
       "      <td>9.134530e+08</td>\n",
       "      <td>1.18</td>\n",
       "      <td>0.3188</td>\n",
       "    </tr>\n",
       "    <tr>\n",
       "      <th>711</th>\n",
       "      <td>DIRR3</td>\n",
       "      <td>30.65</td>\n",
       "      <td>11.44</td>\n",
       "      <td>2.36</td>\n",
       "      <td>1.965</td>\n",
       "      <td>0.0825</td>\n",
       "      <td>0.604</td>\n",
       "      <td>1.69</td>\n",
       "      <td>10.17</td>\n",
       "      <td>-2.56</td>\n",
       "      <td>10.18</td>\n",
       "      <td>9.06</td>\n",
       "      <td>0.1932</td>\n",
       "      <td>0.1991</td>\n",
       "      <td>3.76</td>\n",
       "      <td>0.0723</td>\n",
       "      <td>0.2064</td>\n",
       "      <td>55571200.00</td>\n",
       "      <td>2.252490e+09</td>\n",
       "      <td>0.63</td>\n",
       "      <td>0.1731</td>\n",
       "    </tr>\n",
       "    <tr>\n",
       "      <th>725</th>\n",
       "      <td>ODPV3</td>\n",
       "      <td>11.29</td>\n",
       "      <td>11.87</td>\n",
       "      <td>5.05</td>\n",
       "      <td>2.853</td>\n",
       "      <td>0.1048</td>\n",
       "      <td>2.626</td>\n",
       "      <td>-29.78</td>\n",
       "      <td>10.90</td>\n",
       "      <td>-18.76</td>\n",
       "      <td>9.67</td>\n",
       "      <td>8.88</td>\n",
       "      <td>0.2618</td>\n",
       "      <td>0.2404</td>\n",
       "      <td>0.79</td>\n",
       "      <td>0.3482</td>\n",
       "      <td>0.4257</td>\n",
       "      <td>10848800.00</td>\n",
       "      <td>1.234900e+09</td>\n",
       "      <td>0.00</td>\n",
       "      <td>0.0546</td>\n",
       "    </tr>\n",
       "    <tr>\n",
       "      <th>729</th>\n",
       "      <td>FIBR3</td>\n",
       "      <td>66.30</td>\n",
       "      <td>12.03</td>\n",
       "      <td>2.59</td>\n",
       "      <td>2.010</td>\n",
       "      <td>0.0759</td>\n",
       "      <td>0.899</td>\n",
       "      <td>9.59</td>\n",
       "      <td>5.13</td>\n",
       "      <td>-2.54</td>\n",
       "      <td>7.17</td>\n",
       "      <td>5.29</td>\n",
       "      <td>0.3918</td>\n",
       "      <td>0.1675</td>\n",
       "      <td>1.46</td>\n",
       "      <td>0.2295</td>\n",
       "      <td>0.2157</td>\n",
       "      <td>0.00</td>\n",
       "      <td>1.414900e+10</td>\n",
       "      <td>1.46</td>\n",
       "      <td>0.2271</td>\n",
       "    </tr>\n",
       "    <tr>\n",
       "      <th>740</th>\n",
       "      <td>CXSE3</td>\n",
       "      <td>14.74</td>\n",
       "      <td>12.98</td>\n",
       "      <td>3.48</td>\n",
       "      <td>0.000</td>\n",
       "      <td>0.0913</td>\n",
       "      <td>3.228</td>\n",
       "      <td>109.08</td>\n",
       "      <td>-361.22</td>\n",
       "      <td>109.96</td>\n",
       "      <td>-353.99</td>\n",
       "      <td>-354.01</td>\n",
       "      <td>0.0000</td>\n",
       "      <td>0.0000</td>\n",
       "      <td>1.40</td>\n",
       "      <td>-0.0096</td>\n",
       "      <td>0.2685</td>\n",
       "      <td>54995900.00</td>\n",
       "      <td>1.269040e+10</td>\n",
       "      <td>0.00</td>\n",
       "      <td>0.0000</td>\n",
       "    </tr>\n",
       "  </tbody>\n",
       "</table>\n",
       "<p>63 rows × 21 columns</p>\n",
       "</div>"
      ],
      "text/plain": [
       "     PAPEL  COTACAO    P_L  P_VP    PSR  DIV_YIELD  P_ATIVO  P_CAP_GIRO  \\\n",
       "438  HBTS5    35.50   1.72  0.48  1.020     0.0856    0.205        2.95   \n",
       "451  SYNE3     7.70   2.49  0.59  0.830     0.3744    0.259        0.77   \n",
       "459  POSI3     5.88   2.91  0.50  0.195     0.0711    0.188        0.56   \n",
       "475  BAZA3    92.10   3.92  0.80  0.000     0.0717    0.000        0.00   \n",
       "476  BGIP4    25.00   3.95  0.65  0.000     0.0925    0.000        0.00   \n",
       "..     ...      ...    ...   ...    ...        ...      ...         ...   \n",
       "709  CURY3    22.70  11.38  7.25  1.949     0.0735    1.663        4.34   \n",
       "711  DIRR3    30.65  11.44  2.36  1.965     0.0825    0.604        1.69   \n",
       "725  ODPV3    11.29  11.87  5.05  2.853     0.1048    2.626      -29.78   \n",
       "729  FIBR3    66.30  12.03  2.59  2.010     0.0759    0.899        9.59   \n",
       "740  CXSE3    14.74  12.98  3.48  0.000     0.0913    3.228      109.08   \n",
       "\n",
       "     P_EBIT  P_ATIV_CIRC_LIQ  EV_EBIT  EV_EBITDA  MRG_EBIT  MRG_LIQ  LIQ_CORR  \\\n",
       "438    1.94            -0.47     3.21       3.19    0.5260   0.5923      2.10   \n",
       "451    2.18             4.86     1.49       1.29    0.3802   0.4231      5.74   \n",
       "459    2.25             2.65     4.17       3.61    0.0865   0.0679      1.95   \n",
       "475    0.00             0.00     0.00       0.00    0.0000   0.0000      0.00   \n",
       "476    0.00             0.00     0.00       0.00    0.0000   0.0000      0.00   \n",
       "..      ...              ...      ...        ...       ...      ...       ...   \n",
       "709    8.58          -175.84     7.96       7.69    0.2271   0.1785      2.12   \n",
       "711   10.17            -2.56    10.18       9.06    0.1932   0.1991      3.76   \n",
       "725   10.90           -18.76     9.67       8.88    0.2618   0.2404      0.79   \n",
       "729    5.13            -2.54     7.17       5.29    0.3918   0.1675      1.46   \n",
       "740 -361.22           109.96  -353.99    -354.01    0.0000   0.0000      1.40   \n",
       "\n",
       "       ROIC     ROE   LIQ_2MESES    PATRIM_LIQ  DIV_BRUT_PATRIM  CRESC_REC_5A  \n",
       "438  0.1084  0.2779      5701.87  6.773130e+08             0.36        0.5439  \n",
       "451  0.1714  0.2357   6715560.00  2.005940e+09             0.50        0.2291  \n",
       "459  0.1160  0.1721  11893900.00  1.665330e+09             0.74        0.2227  \n",
       "475  0.0000  0.2040    273420.00  6.461360e+09             0.00        0.1884  \n",
       "476  0.0000  0.1643     50158.10  7.147290e+08             0.00        0.0276  \n",
       "..      ...     ...          ...           ...              ...           ...  \n",
       "709  0.3379  0.6372  45709900.00  9.134530e+08             1.18        0.3188  \n",
       "711  0.0723  0.2064  55571200.00  2.252490e+09             0.63        0.1731  \n",
       "725  0.3482  0.4257  10848800.00  1.234900e+09             0.00        0.0546  \n",
       "729  0.2295  0.2157         0.00  1.414900e+10             1.46        0.2271  \n",
       "740 -0.0096  0.2685  54995900.00  1.269040e+10             0.00        0.0000  \n",
       "\n",
       "[63 rows x 21 columns]"
      ]
     },
     "execution_count": 50,
     "metadata": {},
     "output_type": "execute_result"
    }
   ],
   "source": [
    "dividend_avg = dividend_clean['DIV_YIELD'].mean()\n",
    "roe_avg = dividend_clean['ROE'].mean()\n",
    "company_top = dividend_clean.query(F\"DIV_YIELD >= {dividend_avg} & ROE >= {roe_avg}\")\n",
    "company_top"
   ]
  },
  {
   "cell_type": "markdown",
   "id": "ef02e178-184c-4632-9c6d-6f50a99e3832",
   "metadata": {},
   "source": [
    "##### Estatísticas descritivas das empresas pagadores de dividendos "
   ]
  },
  {
   "cell_type": "code",
   "execution_count": 52,
   "id": "cbe3e201-14cb-426b-a830-8ed86fa7789a",
   "metadata": {},
   "outputs": [
    {
     "data": {
      "text/plain": [
       "count    63.000000\n",
       "mean      0.111679\n",
       "std       0.055572\n",
       "min       0.063900\n",
       "25%       0.075250\n",
       "50%       0.092200\n",
       "75%       0.120400\n",
       "max       0.374400\n",
       "Name: DIV_YIELD, dtype: float64"
      ]
     },
     "execution_count": 52,
     "metadata": {},
     "output_type": "execute_result"
    }
   ],
   "source": [
    "company_top['DIV_YIELD'].describe()"
   ]
  },
  {
   "cell_type": "code",
   "execution_count": 53,
   "id": "f51465ce-2e8e-4ebf-b56d-b97a9b858fcb",
   "metadata": {},
   "outputs": [
    {
     "data": {
      "text/plain": [
       "Text(0.5, 1.0, 'Distribuição dos valores de Dividend Yields das Empresas')"
      ]
     },
     "execution_count": 53,
     "metadata": {},
     "output_type": "execute_result"
    },
    {
     "data": {
      "image/png": "[encoded data removed]",
      "text/plain": [
       "<Figure size 640x480 with 1 Axes>"
      ]
     },
     "metadata": {},
     "output_type": "display_data"
    }
   ],
   "source": [
    "sns.boxplot(x=company_top['DIV_YIELD'])\n",
    "plt.ylabel('empresas')\n",
    "plt.xlabel('dividend yield')\n",
    "plt.title('Distribuição dos valores de Dividend Yields das Empresas')"
   ]
  },
  {
   "cell_type": "code",
   "execution_count": 54,
   "id": "e45e093f-ff0e-4386-9b97-1b1f4dcf9d1d",
   "metadata": {},
   "outputs": [
    {
     "data": {
      "text/plain": [
       "count    63.000000\n",
       "mean      0.336059\n",
       "std       0.331623\n",
       "min       0.157200\n",
       "25%       0.194150\n",
       "50%       0.223500\n",
       "75%       0.343050\n",
       "max       1.986600\n",
       "Name: ROE, dtype: float64"
      ]
     },
     "execution_count": 54,
     "metadata": {},
     "output_type": "execute_result"
    }
   ],
   "source": [
    "company_top['ROE'].describe()"
   ]
  },
  {
   "cell_type": "code",
   "execution_count": 55,
   "id": "42f3c4c8-9e27-4a91-b60f-885242713204",
   "metadata": {},
   "outputs": [
    {
     "data": {
      "text/plain": [
       "Text(0.5, 1.0, 'Distribuição dos valores do ROE das Empresas')"
      ]
     },
     "execution_count": 55,
     "metadata": {},
     "output_type": "execute_result"
    },
    {
     "data": {
      "image/png": "[encoded data removed]",
      "text/plain": [
       "<Figure size 640x480 with 1 Axes>"
      ]
     },
     "metadata": {},
     "output_type": "display_data"
    }
   ],
   "source": [
    "sns.boxplot(x=company_top['ROE'])\n",
    "plt.ylabel('empresas')\n",
    "plt.xlabel('ROE')\n",
    "plt.title('Distribuição dos valores do ROE das Empresas')"
   ]
  },
  {
   "cell_type": "code",
   "execution_count": 56,
   "id": "2d4976db-b08e-4f21-91da-96842e0d91c7",
   "metadata": {},
   "outputs": [
    {
     "data": {
      "text/plain": [
       "<Axes: >"
      ]
     },
     "execution_count": 56,
     "metadata": {},
     "output_type": "execute_result"
    },
    {
     "data": {
      "image/png": "[encoded data removed]",
      "text/plain": [
       "<Figure size 640x480 with 1 Axes>"
      ]
     },
     "metadata": {},
     "output_type": "display_data"
    }
   ],
   "source": [
    "sns.boxplot(data=company_top[['DIV_YIELD','ROE']])"
   ]
  },
  {
   "cell_type": "code",
   "execution_count": 57,
   "id": "33193515",
   "metadata": {},
   "outputs": [
    {
     "data": {
      "text/html": [
       "<div>\n",
       "<style scoped>\n",
       "    .dataframe tbody tr th:only-of-type {\n",
       "        vertical-align: middle;\n",
       "    }\n",
       "\n",
       "    .dataframe tbody tr th {\n",
       "        vertical-align: top;\n",
       "    }\n",
       "\n",
       "    .dataframe thead th {\n",
       "        text-align: right;\n",
       "    }\n",
       "</style>\n",
       "<table border=\"1\" class=\"dataframe\">\n",
       "  <thead>\n",
       "    <tr style=\"text-align: right;\">\n",
       "      <th></th>\n",
       "      <th>PAPEL</th>\n",
       "      <th>ROE</th>\n",
       "      <th>DIV_YIELD</th>\n",
       "      <th>LIQ_CORR</th>\n",
       "    </tr>\n",
       "  </thead>\n",
       "  <tbody>\n",
       "    <tr>\n",
       "      <th>451</th>\n",
       "      <td>SYNE3</td>\n",
       "      <td>0.2357</td>\n",
       "      <td>0.3744</td>\n",
       "      <td>5.74</td>\n",
       "    </tr>\n",
       "    <tr>\n",
       "      <th>548</th>\n",
       "      <td>LEVE3</td>\n",
       "      <td>0.6625</td>\n",
       "      <td>0.2540</td>\n",
       "      <td>2.01</td>\n",
       "    </tr>\n",
       "    <tr>\n",
       "      <th>597</th>\n",
       "      <td>EKTR3</td>\n",
       "      <td>0.4392</td>\n",
       "      <td>0.2168</td>\n",
       "      <td>1.06</td>\n",
       "    </tr>\n",
       "    <tr>\n",
       "      <th>637</th>\n",
       "      <td>EKTR4</td>\n",
       "      <td>0.4392</td>\n",
       "      <td>0.2121</td>\n",
       "      <td>1.06</td>\n",
       "    </tr>\n",
       "    <tr>\n",
       "      <th>480</th>\n",
       "      <td>CSRN3</td>\n",
       "      <td>0.3356</td>\n",
       "      <td>0.1992</td>\n",
       "      <td>1.81</td>\n",
       "    </tr>\n",
       "    <tr>\n",
       "      <th>...</th>\n",
       "      <td>...</td>\n",
       "      <td>...</td>\n",
       "      <td>...</td>\n",
       "      <td>...</td>\n",
       "    </tr>\n",
       "    <tr>\n",
       "      <th>654</th>\n",
       "      <td>POMO4</td>\n",
       "      <td>0.2659</td>\n",
       "      <td>0.0687</td>\n",
       "      <td>1.88</td>\n",
       "    </tr>\n",
       "    <tr>\n",
       "      <th>515</th>\n",
       "      <td>SOJA3</td>\n",
       "      <td>0.2250</td>\n",
       "      <td>0.0683</td>\n",
       "      <td>1.98</td>\n",
       "    </tr>\n",
       "    <tr>\n",
       "      <th>603</th>\n",
       "      <td>ITSA3</td>\n",
       "      <td>0.1713</td>\n",
       "      <td>0.0660</td>\n",
       "      <td>2.25</td>\n",
       "    </tr>\n",
       "    <tr>\n",
       "      <th>604</th>\n",
       "      <td>ITSA4</td>\n",
       "      <td>0.1713</td>\n",
       "      <td>0.0660</td>\n",
       "      <td>2.25</td>\n",
       "    </tr>\n",
       "    <tr>\n",
       "      <th>681</th>\n",
       "      <td>ITUB4</td>\n",
       "      <td>0.1896</td>\n",
       "      <td>0.0639</td>\n",
       "      <td>0.00</td>\n",
       "    </tr>\n",
       "  </tbody>\n",
       "</table>\n",
       "<p>63 rows × 4 columns</p>\n",
       "</div>"
      ],
      "text/plain": [
       "     PAPEL     ROE  DIV_YIELD  LIQ_CORR\n",
       "451  SYNE3  0.2357     0.3744      5.74\n",
       "548  LEVE3  0.6625     0.2540      2.01\n",
       "597  EKTR3  0.4392     0.2168      1.06\n",
       "637  EKTR4  0.4392     0.2121      1.06\n",
       "480  CSRN3  0.3356     0.1992      1.81\n",
       "..     ...     ...        ...       ...\n",
       "654  POMO4  0.2659     0.0687      1.88\n",
       "515  SOJA3  0.2250     0.0683      1.98\n",
       "603  ITSA3  0.1713     0.0660      2.25\n",
       "604  ITSA4  0.1713     0.0660      2.25\n",
       "681  ITUB4  0.1896     0.0639      0.00\n",
       "\n",
       "[63 rows x 4 columns]"
      ]
     },
     "execution_count": 57,
     "metadata": {},
     "output_type": "execute_result"
    }
   ],
   "source": [
    "# Analisando valores do ROEs das empresas\n",
    "\n",
    "company_top[['PAPEL','ROE', 'DIV_YIELD', 'LIQ_CORR']].sort_values(by='DIV_YIELD', ascending=False)"
   ]
  },
  {
   "cell_type": "code",
   "execution_count": 58,
   "id": "163be9a6",
   "metadata": {},
   "outputs": [
    {
     "data": {
      "image/png": "[encoded data removed]",
      "text/plain": [
       "<Figure size 1000x2000 with 1 Axes>"
      ]
     },
     "metadata": {},
     "output_type": "display_data"
    }
   ],
   "source": [
    "# Ordenando o DataFrame com base em 'DIV_YIELD' em ordem decrescente\n",
    "data_sorted = company_top[['PAPEL','ROE', 'DIV_YIELD']].sort_values(by='DIV_YIELD',ascending=True)\n",
    "\n",
    "# Selecionando as primeiras 10 linhas\n",
    "data_top10 = data_sorted\n",
    "\n",
    "# Criando o gráfico de barras para os 10 maiores valores de 'DIV_YIELD'\n",
    "plt.figure(figsize=(10,20))\n",
    "sns.barplot(x='DIV_YIELD', y='PAPEL', data=data_top10, palette=\"GnBu_d\")\n",
    "plt.title('Top 10 PAPEL por DIV_YIELD')\n",
    "plt.xlabel('DIVIDEND YIELD')\n",
    "plt.ylabel('PAPEL')\n",
    "plt.show()\n"
   ]
  }
 ],
 "metadata": {
  "kernelspec": {
   "display_name": "Python 3 (ipykernel)",
   "language": "python",
   "name": "python3"
  },
  "language_info": {
   "codemirror_mode": {
    "name": "ipython",
    "version": 3
   },
   "file_extension": ".py",
   "mimetype": "text/x-python",
   "name": "python",
   "nbconvert_exporter": "python",
   "pygments_lexer": "ipython3",
   "version": "3.11.5"
  }
 },
 "nbformat": 4,
 "nbformat_minor": 5
}
