{
 "cells": [
  {
   "cell_type": "markdown",
   "id": "05f73ac3-001e-435a-9871-3a5b02414285",
   "metadata": {
    "jp-MarkdownHeadingCollapsed": true
   },
   "source": [
    "# Projeto 1: Estratégia Anti-Crise - Análise Técnica usando médias móveis em ALPA4. (+160% contra -90% do ativo)\n",
    "\n",
    "### Desafio:\n",
    "\n",
    "* Testar historicamente um modelo que compra e venda ALPA4 baseado no cruzamento de médias móveis. \n",
    "\n",
    "### Passo a passo:\n",
    "\n",
    "   **Passo 1** - Importar as bibliotecas.\n",
    "   \n",
    "   **Passo 2** - Pegar os dados do Yahoo Finance.\n",
    "   \n",
    "   **Passo 3** - Definir as janelas das médias móveis. \n",
    "   \n",
    "   **Passo 4** - Calcular as médias móveis.\n",
    "   \n",
    "   **Passo 5** - Calcular o retorno diário da ação.\n",
    "   \n",
    "   **Passo 6** - Criar os sinais de compra ou venda. \n",
    "   \n",
    "   **Passo 7** - Calcular o retorno do modelo.\n",
    "   \n",
    "   **Passo 8** - Calcular o retorno da ação e do Ibovespa no mesmo período.\n",
    "\n",
    "   **Passo 9** - Criar o gráfico de retornos para observar o resultado da estratégia.\n",
    "\n",
    "   **Passo 10** - Otimizar os parâmetros pra gerar melhores resultados.\n",
    "\n",
    "   ***\n",
    "   \n",
    "-------------------"
   ]
  },
  {
   "cell_type": "markdown",
   "id": "da64aacc-38e2-4bf0-bb51-a86e80c9f179",
   "metadata": {},
   "source": [
    "# Passo 1 - Importar as bibliotecas"
   ]
  },
  {
   "cell_type": "code",
   "execution_count": null,
   "id": "ab5eff1f-a5c9-4178-9584-a597236ef7e6",
   "metadata": {},
   "outputs": [],
   "source": [
    "!pip install yfinance\n",
    "!pip install mplcyberpunk"
   ]
  },
  {
   "cell_type": "code",
   "execution_count": null,
   "id": "50509e96-d613-4ca1-b324-6cdaf916ec2d",
   "metadata": {},
   "outputs": [],
   "source": [
    "import yfinance as yf\n",
    "import pandas as pd\n",
    "import matplotlib.pyplot as plt\n",
    "from matplotlib.ticker import PercentFormatter\n",
    "import numpy as np\n",
    "import mplcyberpunk\n",
    "plt.style.use(\"cyberpunk\")"
   ]
  },
  {
   "cell_type": "markdown",
   "id": "6ed2cde6-6408-4066-88a0-0d4294c5119a",
   "metadata": {},
   "source": [
    "# Passo 2 - Pegar os dados do Yahoo Finance"
   ]
  },
  {
   "cell_type": "code",
   "execution_count": null,
   "id": "474bb306-19ef-4eb3-b434-18d0d3322ca1",
   "metadata": {},
   "outputs": [],
   "source": [
    "ticker = \"ALPA4.SA\"\n",
    "data = yf.download(ticker, start=\"2021-05-27\", end=\"2024-09-10\")"
   ]
  },
  {
   "cell_type": "markdown",
   "id": "0bf02fe2-1f34-43b9-9331-12fcebf9fe39",
   "metadata": {},
   "source": [
    "# Passo 3 - Definir as janelas das médias móveis"
   ]
  },
  {
   "cell_type": "code",
   "execution_count": null,
   "id": "f8e9b13b-94d9-4c42-abf9-ee4b37312336",
   "metadata": {},
   "outputs": [],
   "source": [
    "janela_rapida = 7\n",
    "janela_lenta = 40"
   ]
  },
  {
   "cell_type": "markdown",
   "id": "2d99b6cd-ec96-473e-bf0a-bcad4ca58de7",
   "metadata": {},
   "source": [
    "# Passo 4 - Calcular as médias móveis"
   ]
  },
  {
   "cell_type": "code",
   "execution_count": null,
   "id": "4a308c7f-f655-48f9-9e63-5af4b4e2bcba",
   "metadata": {},
   "outputs": [],
   "source": [
    "# Calculando as médias móveis\n",
    "data['Média Rápida'] = data['Adj Close'].rolling(window=janela_rapida).mean()\n",
    "data['Média Lenta'] = data['Adj Close'].rolling(window=janela_lenta).mean()"
   ]
  },
  {
   "cell_type": "markdown",
   "id": "b8364a8d-e2dd-4ae9-9fe6-11060a5a8349",
   "metadata": {},
   "source": [
    "# Passo 5 - Calcular o retorno diário da ação"
   ]
  },
  {
   "cell_type": "code",
   "execution_count": null,
   "id": "73712b27-d4f1-4f4e-989c-ec5738e26b03",
   "metadata": {},
   "outputs": [],
   "source": [
    "data[\"retorno_diario\"] = data[\"Adj Close\"].pct_change()\n",
    "data = data.dropna()"
   ]
  },
  {
   "cell_type": "markdown",
   "id": "3f14507a-9354-4995-86b7-c5edf6409084",
   "metadata": {},
   "source": [
    "# Passo 6 - Criar os sinais de compra ou venda"
   ]
  },
  {
   "cell_type": "code",
   "execution_count": null,
   "id": "16bba4ad-eb55-40bc-9894-f6328bd96664",
   "metadata": {},
   "outputs": [],
   "source": [
    "# Criando a coluna 'Sinal' para marcar os pontos de compra (1) e venda (-1)\n",
    "data['comprado_ou_vendido'] = 0\n",
    "data['comprado_ou_vendido'] = np.where(data['Média Rápida'] > data['Média Lenta'], 1, -1)\n",
    "data['comprado_ou_vendido'] = data['comprado_ou_vendido'].shift(1)"
   ]
  },
  {
   "cell_type": "markdown",
   "id": "540ef18c-9616-4ede-8fad-d18ee280d03e",
   "metadata": {},
   "source": [
    "# Passo 7 - Calcular o retorno do modelo"
   ]
  },
  {
   "cell_type": "code",
   "execution_count": null,
   "id": "66a56d86-ce3d-4c60-ac1a-77caaa5bbb6c",
   "metadata": {},
   "outputs": [],
   "source": [
    "data[\"retorno_modelo\"] = data[\"retorno_diario\"] * data[\"comprado_ou_vendido\"]"
   ]
  },
  {
   "cell_type": "code",
   "execution_count": null,
   "id": "94e8c249-72a7-43c2-9851-ee77fe332f67",
   "metadata": {},
   "outputs": [],
   "source": [
    "data['retorno_acum_modelo'] = (1 + data['retorno_modelo']).cumprod() - 1"
   ]
  },
  {
   "cell_type": "markdown",
   "id": "1b1ac2dc-45f4-4f30-bfc1-7b80c8fcbae4",
   "metadata": {},
   "source": [
    "# Passo 8 - Calcular o retorno da ação e do Ibovespa no mesmo período"
   ]
  },
  {
   "cell_type": "code",
   "execution_count": null,
   "id": "b056a4ca-9fa7-4f41-b023-79604a9a4376",
   "metadata": {},
   "outputs": [],
   "source": [
    "data['retorno_acum_acao'] = (1 + data['retorno_diario']).cumprod() - 1"
   ]
  },
  {
   "cell_type": "code",
   "execution_count": null,
   "id": "61a031af-db21-43cd-8553-8864adb2d91c",
   "metadata": {},
   "outputs": [],
   "source": [
    "ibov = yf.download(\"^BVSP\", start = data.index[0], end = \"2024-09-10\")[\"Close\"]\n",
    "\n",
    "data[\"retorno_ibov\"] = ibov.pct_change().values\n",
    "data[\"retorno_ibov\"] = (1 + data[\"retorno_ibov\"]).cumprod() - 1 \n",
    "\n",
    "data"
   ]
  },
  {
   "cell_type": "markdown",
   "id": "c393dae7-3da9-4d68-bc20-f8fda9d0a54a",
   "metadata": {},
   "source": [
    "# Passo 9 - Criar o gráfico de retornos para observar o resultado da estratégia."
   ]
  },
  {
   "cell_type": "code",
   "execution_count": null,
   "id": "0da5345e-7cc8-4895-887b-0b021a7f3213",
   "metadata": {},
   "outputs": [],
   "source": [
    "# Plotando o resultado\n",
    "plt.figure(figsize=(14, 7))\n",
    "plt.plot(data['retorno_acum_modelo'], label='Estratégia')\n",
    "plt.plot(data['retorno_acum_acao'], label='Ação')\n",
    "plt.plot(data['retorno_ibov'], label='Ibovespa')\n",
    "plt.title(f'Retorno Acumulado: Estratégia de Médias Móveis vs {ticker}')\n",
    "plt.gca().yaxis.set_major_formatter(PercentFormatter(1))\n",
    "plt.legend(loc='best')\n",
    "plt.show()"
   ]
  },
  {
   "cell_type": "markdown",
   "id": "dc3b495b-c287-4720-b24d-e9b58501360a",
   "metadata": {},
   "source": [
    "# Passo 10: Otimizar os resultados"
   ]
  },
  {
   "cell_type": "code",
   "execution_count": null,
   "id": "91e30623-1521-49cd-adaf-d70698f30922",
   "metadata": {},
   "outputs": [],
   "source": []
  },
  {
   "cell_type": "code",
   "execution_count": null,
   "id": "b0794a4b-e9ab-4583-8c5b-893050aabbee",
   "metadata": {},
   "outputs": [],
   "source": []
  },
  {
   "cell_type": "code",
   "execution_count": null,
   "id": "1824a88b-f627-4e99-a85c-d5a9a6b82275",
   "metadata": {},
   "outputs": [],
   "source": []
  },
  {
   "cell_type": "code",
   "execution_count": null,
   "id": "2cc1af80-871b-4f1d-b635-4b60cc8017d2",
   "metadata": {},
   "outputs": [],
   "source": []
  },
  {
   "cell_type": "code",
   "execution_count": null,
   "id": "e3d69cb2-1577-4147-9bfe-7c552945ad39",
   "metadata": {},
   "outputs": [],
   "source": []
  },
  {
   "cell_type": "code",
   "execution_count": null,
   "id": "e1753e0c-e185-4577-9382-eec1a27dbb7b",
   "metadata": {},
   "outputs": [],
   "source": []
  },
  {
   "cell_type": "code",
   "execution_count": null,
   "id": "b3dd3ea5-f1fd-4390-8c3c-d5312f175e9e",
   "metadata": {},
   "outputs": [],
   "source": []
  },
  {
   "cell_type": "code",
   "execution_count": null,
   "id": "1a4ff998-00c4-4279-92e5-e89bca715600",
   "metadata": {},
   "outputs": [],
   "source": []
  },
  {
   "cell_type": "code",
   "execution_count": null,
   "id": "28e7387d-18c7-46d6-ae70-e062ee478cac",
   "metadata": {},
   "outputs": [],
   "source": []
  },
  {
   "cell_type": "code",
   "execution_count": null,
   "id": "76168268-a768-44d3-8bcf-a713d0bc79cc",
   "metadata": {},
   "outputs": [],
   "source": []
  },
  {
   "cell_type": "code",
   "execution_count": null,
   "id": "e59236b2-ebad-4fcc-92f3-ffc9c0cf476f",
   "metadata": {},
   "outputs": [],
   "source": []
  },
  {
   "cell_type": "code",
   "execution_count": null,
   "id": "097afba7-2ae1-4b5d-b96b-3c197378187d",
   "metadata": {},
   "outputs": [],
   "source": []
  }
 ],
 "metadata": {
  "kernelspec": {
   "display_name": "Python 3 (ipykernel)",
   "language": "python",
   "name": "python3"
  },
  "language_info": {
   "codemirror_mode": {
    "name": "ipython",
    "version": 3
   },
   "file_extension": ".py",
   "mimetype": "text/x-python",
   "name": "python",
   "nbconvert_exporter": "python",
   "pygments_lexer": "ipython3",
   "version": "3.11.7"
  },
  "widgets": {
   "application/vnd.jupyter.widget-state+json": {
    "state": {},
    "version_major": 2,
    "version_minor": 0
   }
  }
 },
 "nbformat": 4,
 "nbformat_minor": 5
}
